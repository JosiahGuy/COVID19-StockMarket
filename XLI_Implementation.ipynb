{
  "cells": [
    {
      "cell_type": "markdown",
      "metadata": {
        "id": "O281cDhKvSKQ"
      },
      "source": [
        "Link to paper: https://www.ncbi.nlm.nih.gov/pmc/articles/PMC7948653/\n",
        "Link to GitHub: https://github.com/NourozR/Stock-Price-Prediction-LSTM/blob/master/StockPricePrediction.py"
      ]
    },
    {
      "cell_type": "markdown",
      "metadata": {
        "id": "znvTg5nevgw3"
      },
      "source": [
        "**LOAD IN preprocessing.py and INDEX.csv INTO RUNTIME FOR CODE TO RUN**"
      ]
    },
    {
      "cell_type": "code",
      "execution_count": 1,
      "metadata": {
        "id": "OMgXWiq7rF2t"
      },
      "outputs": [],
      "source": [
        "# IMPORTING IMPORTANT LIBRARIES\n",
        "import pandas as pd\n",
        "import matplotlib.pyplot as plt\n",
        "import numpy as np \n",
        "import math\n",
        "from sklearn.preprocessing import MinMaxScaler\n",
        "from sklearn.metrics import mean_squared_error\n",
        "from keras.models import Sequential\n",
        "from keras.layers import Dense, Activation\n",
        "from keras.layers import LSTM\n",
        "import preprocessing \n",
        "import yahoodata as yd # File added as a function to parse our index data"
      ]
    },
    {
      "cell_type": "code",
      "execution_count": 2,
      "metadata": {},
      "outputs": [
        {
          "data": {
            "text/html": [
              "<div>\n",
              "<style scoped>\n",
              "    .dataframe tbody tr th:only-of-type {\n",
              "        vertical-align: middle;\n",
              "    }\n",
              "\n",
              "    .dataframe tbody tr th {\n",
              "        vertical-align: top;\n",
              "    }\n",
              "\n",
              "    .dataframe thead th {\n",
              "        text-align: right;\n",
              "    }\n",
              "</style>\n",
              "<table border=\"1\" class=\"dataframe\">\n",
              "  <thead>\n",
              "    <tr style=\"text-align: right;\">\n",
              "      <th></th>\n",
              "      <th>High</th>\n",
              "      <th>Low</th>\n",
              "      <th>Open</th>\n",
              "      <th>Close</th>\n",
              "    </tr>\n",
              "    <tr>\n",
              "      <th>Date</th>\n",
              "      <th></th>\n",
              "      <th></th>\n",
              "      <th></th>\n",
              "      <th></th>\n",
              "    </tr>\n",
              "  </thead>\n",
              "  <tbody>\n",
              "    <tr>\n",
              "      <th>2016-03-31</th>\n",
              "      <td>55.790001</td>\n",
              "      <td>55.400002</td>\n",
              "      <td>55.709999</td>\n",
              "      <td>55.470001</td>\n",
              "    </tr>\n",
              "    <tr>\n",
              "      <th>2016-04-01</th>\n",
              "      <td>55.730000</td>\n",
              "      <td>54.750000</td>\n",
              "      <td>55.150002</td>\n",
              "      <td>55.730000</td>\n",
              "    </tr>\n",
              "    <tr>\n",
              "      <th>2016-04-04</th>\n",
              "      <td>55.610001</td>\n",
              "      <td>55.000000</td>\n",
              "      <td>55.540001</td>\n",
              "      <td>55.099998</td>\n",
              "    </tr>\n",
              "    <tr>\n",
              "      <th>2016-04-05</th>\n",
              "      <td>55.009998</td>\n",
              "      <td>54.560001</td>\n",
              "      <td>54.730000</td>\n",
              "      <td>54.759998</td>\n",
              "    </tr>\n",
              "    <tr>\n",
              "      <th>2016-04-06</th>\n",
              "      <td>55.029999</td>\n",
              "      <td>54.250000</td>\n",
              "      <td>54.740002</td>\n",
              "      <td>55.029999</td>\n",
              "    </tr>\n",
              "    <tr>\n",
              "      <th>...</th>\n",
              "      <td>...</td>\n",
              "      <td>...</td>\n",
              "      <td>...</td>\n",
              "      <td>...</td>\n",
              "    </tr>\n",
              "    <tr>\n",
              "      <th>2021-11-11</th>\n",
              "      <td>106.709999</td>\n",
              "      <td>105.949997</td>\n",
              "      <td>106.709999</td>\n",
              "      <td>106.059998</td>\n",
              "    </tr>\n",
              "    <tr>\n",
              "      <th>2021-11-12</th>\n",
              "      <td>107.080002</td>\n",
              "      <td>106.019997</td>\n",
              "      <td>106.360001</td>\n",
              "      <td>106.900002</td>\n",
              "    </tr>\n",
              "    <tr>\n",
              "      <th>2021-11-15</th>\n",
              "      <td>107.449997</td>\n",
              "      <td>106.860001</td>\n",
              "      <td>107.330002</td>\n",
              "      <td>107.099998</td>\n",
              "    </tr>\n",
              "    <tr>\n",
              "      <th>2021-11-16</th>\n",
              "      <td>107.650002</td>\n",
              "      <td>107.019997</td>\n",
              "      <td>107.110001</td>\n",
              "      <td>107.120003</td>\n",
              "    </tr>\n",
              "    <tr>\n",
              "      <th>2021-11-17</th>\n",
              "      <td>107.279999</td>\n",
              "      <td>106.110001</td>\n",
              "      <td>107.139999</td>\n",
              "      <td>106.480003</td>\n",
              "    </tr>\n",
              "  </tbody>\n",
              "</table>\n",
              "<p>1421 rows × 4 columns</p>\n",
              "</div>"
            ],
            "text/plain": [
              "                  High         Low        Open       Close\n",
              "Date                                                      \n",
              "2016-03-31   55.790001   55.400002   55.709999   55.470001\n",
              "2016-04-01   55.730000   54.750000   55.150002   55.730000\n",
              "2016-04-04   55.610001   55.000000   55.540001   55.099998\n",
              "2016-04-05   55.009998   54.560001   54.730000   54.759998\n",
              "2016-04-06   55.029999   54.250000   54.740002   55.029999\n",
              "...                ...         ...         ...         ...\n",
              "2021-11-11  106.709999  105.949997  106.709999  106.059998\n",
              "2021-11-12  107.080002  106.019997  106.360001  106.900002\n",
              "2021-11-15  107.449997  106.860001  107.330002  107.099998\n",
              "2021-11-16  107.650002  107.019997  107.110001  107.120003\n",
              "2021-11-17  107.279999  106.110001  107.139999  106.480003\n",
              "\n",
              "[1421 rows x 4 columns]"
            ]
          },
          "execution_count": 2,
          "metadata": {},
          "output_type": "execute_result"
        }
      ],
      "source": [
        "# IMPORTING DATASET\n",
        "# This whole cell is brand new, utilizing pullStockData function from yahoodata\n",
        "# XLI: Industrial Select Sector SPDR Fund\n",
        "\n",
        "dataset = yd.pullStockData(\"XLI\", 2016, 3, 31, 2021, 11, 17)\n",
        "\n",
        "dataset\n"
      ]
    },
    {
      "cell_type": "code",
      "execution_count": 3,
      "metadata": {
        "id": "sOdGcHays64t"
      },
      "outputs": [],
      "source": [
        "# CREATING OWN INDEX FOR FLEXIBILITY\n",
        "obs = np.arange(1, len(dataset) + 1, 1)"
      ]
    },
    {
      "cell_type": "code",
      "execution_count": 4,
      "metadata": {
        "id": "BkqmSoRYuZzz"
      },
      "outputs": [],
      "source": [
        "# TAKING DIFFERENT INDICATORS FOR PREDICTION\n",
        "OHLC_avg = dataset.mean(axis = 1)\n",
        "HLC_avg = dataset[['High', 'Low', 'Close']].mean(axis = 1)\n",
        "close_val = dataset[['Close']]"
      ]
    },
    {
      "cell_type": "code",
      "execution_count": 5,
      "metadata": {
        "colab": {
          "base_uri": "https://localhost:8080/",
          "height": 265
        },
        "id": "j-cDDLHNuaQ6",
        "outputId": "6dcd39be-9848-4660-c00e-474e563a0eee"
      },
      "outputs": [
        {
          "data": {
            "image/png": "[encoded data removed]",
            "text/plain": [
              "<Figure size 432x288 with 1 Axes>"
            ]
          },
          "metadata": {
            "needs_background": "light"
          },
          "output_type": "display_data"
        }
      ],
      "source": [
        "# PLOTTING ALL INDICATORS IN ONE PLOT\n",
        "plt.plot(obs, OHLC_avg, 'r', label = 'OHLC avg')\n",
        "plt.plot(obs, HLC_avg, 'b', label = 'HLC avg')\n",
        "plt.plot(obs, close_val, 'g', label = 'Closing price')\n",
        "plt.legend(loc = 'upper right')\n",
        "plt.show()\n"
      ]
    },
    {
      "cell_type": "code",
      "execution_count": 6,
      "metadata": {
        "id": "O0BSRoZ4ucb3"
      },
      "outputs": [],
      "source": [
        "# PREPARATION OF TIME SERIES DATASET\n",
        "OHLC_avg = np.reshape(OHLC_avg.values, (len(OHLC_avg),1))\n",
        "scaler = MinMaxScaler(feature_range=(0, 1))\n",
        "OHLC_avg = scaler.fit_transform(OHLC_avg)"
      ]
    },
    {
      "cell_type": "code",
      "execution_count": 7,
      "metadata": {
        "id": "gAPl21erueY4"
      },
      "outputs": [],
      "source": [
        "# TRAIN-TEST SPLIT\n",
        "train_OHLC = int(len(OHLC_avg) * 0.7) # Changed to a 30/70 split from original dataset\n",
        "train_OHLC_placeholder = train_OHLC\n",
        "test_OHLC = len(OHLC_avg) - train_OHLC\n",
        "train_OHLC, test_OHLC = OHLC_avg[0:train_OHLC,:], OHLC_avg[train_OHLC:len(OHLC_avg),:]"
      ]
    },
    {
      "cell_type": "code",
      "execution_count": 8,
      "metadata": {
        "id": "5Zy2U-ycugv8"
      },
      "outputs": [],
      "source": [
        "# TIME-SERIES DATASET (FOR TIME T, VALUES FOR TIME T+1)\n",
        "trainX, trainY = preprocessing.new_dataset(train_OHLC, 1)\n",
        "testX, testY = preprocessing.new_dataset(test_OHLC, 1)"
      ]
    },
    {
      "cell_type": "code",
      "execution_count": 9,
      "metadata": {
        "id": "oeSRtAcwujwu"
      },
      "outputs": [],
      "source": [
        "# RESHAPING TRAIN AND TEST DATA\n",
        "trainX = np.reshape(trainX, (trainX.shape[0], 1, trainX.shape[1]))\n",
        "testX = np.reshape(testX, (testX.shape[0], 1, testX.shape[1]))\n",
        "step_size = 1"
      ]
    },
    {
      "cell_type": "code",
      "execution_count": 10,
      "metadata": {
        "id": "rORXwjHyujrc"
      },
      "outputs": [
        {
          "name": "stderr",
          "output_type": "stream",
          "text": [
            "2021-11-30 22:55:11.327617: I tensorflow/core/platform/cpu_feature_guard.cc:151] This TensorFlow binary is optimized with oneAPI Deep Neural Network Library (oneDNN) to use the following CPU instructions in performance-critical operations:  AVX2 FMA\n",
            "To enable them in other operations, rebuild TensorFlow with the appropriate compiler flags.\n"
          ]
        }
      ],
      "source": [
        "# LSTM MODEL\n",
        "model = Sequential()\n",
        "model.add(LSTM(32, input_shape=(1, step_size), return_sequences = True))\n",
        "model.add(LSTM(16))\n",
        "model.add(Dense(1))\n",
        "model.add(Activation('linear'))"
      ]
    },
    {
      "cell_type": "code",
      "execution_count": 11,
      "metadata": {
        "colab": {
          "base_uri": "https://localhost:8080/"
        },
        "id": "mGO9umyxul0W",
        "outputId": "92eeacbe-c907-47ad-da1d-a75b0af20d30"
      },
      "outputs": [
        {
          "name": "stdout",
          "output_type": "stream",
          "text": [
            "Epoch 1/50\n",
            "992/992 - 6s - loss: 0.0099 - mse: 0.0099 - mae: 0.0568 - 6s/epoch - 6ms/step\n",
            "Epoch 2/50\n",
            "992/992 - 4s - loss: 2.6800e-04 - mse: 2.6800e-04 - mae: 0.0128 - 4s/epoch - 4ms/step\n",
            "Epoch 3/50\n",
            "992/992 - 4s - loss: 2.3242e-04 - mse: 2.3242e-04 - mae: 0.0118 - 4s/epoch - 4ms/step\n",
            "Epoch 4/50\n",
            "992/992 - 3s - loss: 1.9672e-04 - mse: 1.9672e-04 - mae: 0.0107 - 3s/epoch - 3ms/step\n",
            "Epoch 5/50\n",
            "992/992 - 3s - loss: 1.6421e-04 - mse: 1.6421e-04 - mae: 0.0095 - 3s/epoch - 3ms/step\n",
            "Epoch 6/50\n",
            "992/992 - 3s - loss: 1.7207e-04 - mse: 1.7207e-04 - mae: 0.0097 - 3s/epoch - 3ms/step\n",
            "Epoch 7/50\n",
            "992/992 - 3s - loss: 1.6571e-04 - mse: 1.6571e-04 - mae: 0.0094 - 3s/epoch - 3ms/step\n",
            "Epoch 8/50\n",
            "992/992 - 3s - loss: 1.5712e-04 - mse: 1.5712e-04 - mae: 0.0093 - 3s/epoch - 3ms/step\n",
            "Epoch 9/50\n",
            "992/992 - 4s - loss: 1.6141e-04 - mse: 1.6141e-04 - mae: 0.0094 - 4s/epoch - 4ms/step\n",
            "Epoch 10/50\n",
            "992/992 - 4s - loss: 1.5677e-04 - mse: 1.5677e-04 - mae: 0.0092 - 4s/epoch - 4ms/step\n",
            "Epoch 11/50\n",
            "992/992 - 4s - loss: 1.6809e-04 - mse: 1.6809e-04 - mae: 0.0094 - 4s/epoch - 4ms/step\n",
            "Epoch 12/50\n",
            "992/992 - 3s - loss: 1.6517e-04 - mse: 1.6517e-04 - mae: 0.0095 - 3s/epoch - 3ms/step\n",
            "Epoch 13/50\n",
            "992/992 - 4s - loss: 1.6968e-04 - mse: 1.6968e-04 - mae: 0.0097 - 4s/epoch - 4ms/step\n",
            "Epoch 14/50\n",
            "992/992 - 4s - loss: 1.6005e-04 - mse: 1.6005e-04 - mae: 0.0094 - 4s/epoch - 4ms/step\n",
            "Epoch 15/50\n",
            "992/992 - 3s - loss: 1.6592e-04 - mse: 1.6592e-04 - mae: 0.0096 - 3s/epoch - 3ms/step\n",
            "Epoch 16/50\n",
            "992/992 - 3s - loss: 1.5938e-04 - mse: 1.5938e-04 - mae: 0.0096 - 3s/epoch - 3ms/step\n",
            "Epoch 17/50\n",
            "992/992 - 3s - loss: 1.5890e-04 - mse: 1.5890e-04 - mae: 0.0091 - 3s/epoch - 3ms/step\n",
            "Epoch 18/50\n",
            "992/992 - 2s - loss: 1.6176e-04 - mse: 1.6176e-04 - mae: 0.0095 - 2s/epoch - 2ms/step\n",
            "Epoch 19/50\n",
            "992/992 - 3s - loss: 1.5322e-04 - mse: 1.5322e-04 - mae: 0.0091 - 3s/epoch - 3ms/step\n",
            "Epoch 20/50\n",
            "992/992 - 3s - loss: 1.6533e-04 - mse: 1.6533e-04 - mae: 0.0093 - 3s/epoch - 3ms/step\n",
            "Epoch 21/50\n",
            "992/992 - 3s - loss: 1.5089e-04 - mse: 1.5089e-04 - mae: 0.0091 - 3s/epoch - 3ms/step\n",
            "Epoch 22/50\n",
            "992/992 - 3s - loss: 1.5448e-04 - mse: 1.5448e-04 - mae: 0.0091 - 3s/epoch - 3ms/step\n",
            "Epoch 23/50\n",
            "992/992 - 3s - loss: 1.7345e-04 - mse: 1.7345e-04 - mae: 0.0099 - 3s/epoch - 3ms/step\n",
            "Epoch 24/50\n",
            "992/992 - 3s - loss: 1.5487e-04 - mse: 1.5487e-04 - mae: 0.0089 - 3s/epoch - 3ms/step\n",
            "Epoch 25/50\n",
            "992/992 - 3s - loss: 1.5067e-04 - mse: 1.5067e-04 - mae: 0.0092 - 3s/epoch - 3ms/step\n",
            "Epoch 26/50\n",
            "992/992 - 3s - loss: 1.5493e-04 - mse: 1.5493e-04 - mae: 0.0092 - 3s/epoch - 3ms/step\n",
            "Epoch 27/50\n",
            "992/992 - 2s - loss: 1.5425e-04 - mse: 1.5425e-04 - mae: 0.0091 - 2s/epoch - 2ms/step\n",
            "Epoch 28/50\n",
            "992/992 - 3s - loss: 1.5400e-04 - mse: 1.5400e-04 - mae: 0.0091 - 3s/epoch - 3ms/step\n",
            "Epoch 29/50\n",
            "992/992 - 3s - loss: 1.5526e-04 - mse: 1.5526e-04 - mae: 0.0093 - 3s/epoch - 3ms/step\n",
            "Epoch 30/50\n",
            "992/992 - 3s - loss: 1.5702e-04 - mse: 1.5702e-04 - mae: 0.0092 - 3s/epoch - 3ms/step\n",
            "Epoch 31/50\n",
            "992/992 - 4s - loss: 1.5516e-04 - mse: 1.5516e-04 - mae: 0.0092 - 4s/epoch - 4ms/step\n",
            "Epoch 32/50\n",
            "992/992 - 4s - loss: 1.5449e-04 - mse: 1.5449e-04 - mae: 0.0091 - 4s/epoch - 4ms/step\n",
            "Epoch 33/50\n",
            "992/992 - 3s - loss: 1.6234e-04 - mse: 1.6234e-04 - mae: 0.0095 - 3s/epoch - 3ms/step\n",
            "Epoch 34/50\n",
            "992/992 - 3s - loss: 1.5682e-04 - mse: 1.5682e-04 - mae: 0.0093 - 3s/epoch - 3ms/step\n",
            "Epoch 35/50\n",
            "992/992 - 3s - loss: 1.5117e-04 - mse: 1.5117e-04 - mae: 0.0089 - 3s/epoch - 3ms/step\n",
            "Epoch 36/50\n",
            "992/992 - 3s - loss: 1.4536e-04 - mse: 1.4536e-04 - mae: 0.0089 - 3s/epoch - 3ms/step\n",
            "Epoch 37/50\n",
            "992/992 - 3s - loss: 1.5550e-04 - mse: 1.5550e-04 - mae: 0.0093 - 3s/epoch - 3ms/step\n",
            "Epoch 38/50\n",
            "992/992 - 2s - loss: 1.4644e-04 - mse: 1.4644e-04 - mae: 0.0087 - 2s/epoch - 3ms/step\n",
            "Epoch 39/50\n",
            "992/992 - 2s - loss: 1.4948e-04 - mse: 1.4948e-04 - mae: 0.0091 - 2s/epoch - 2ms/step\n",
            "Epoch 40/50\n",
            "992/992 - 2s - loss: 1.5322e-04 - mse: 1.5322e-04 - mae: 0.0090 - 2s/epoch - 2ms/step\n",
            "Epoch 41/50\n",
            "992/992 - 2s - loss: 1.5688e-04 - mse: 1.5688e-04 - mae: 0.0091 - 2s/epoch - 2ms/step\n",
            "Epoch 42/50\n",
            "992/992 - 3s - loss: 1.4529e-04 - mse: 1.4529e-04 - mae: 0.0088 - 3s/epoch - 3ms/step\n",
            "Epoch 43/50\n",
            "992/992 - 2s - loss: 1.5190e-04 - mse: 1.5190e-04 - mae: 0.0090 - 2s/epoch - 2ms/step\n",
            "Epoch 44/50\n",
            "992/992 - 2s - loss: 1.5767e-04 - mse: 1.5767e-04 - mae: 0.0092 - 2s/epoch - 2ms/step\n",
            "Epoch 45/50\n",
            "992/992 - 2s - loss: 1.4287e-04 - mse: 1.4287e-04 - mae: 0.0088 - 2s/epoch - 2ms/step\n",
            "Epoch 46/50\n",
            "992/992 - 2s - loss: 1.5254e-04 - mse: 1.5254e-04 - mae: 0.0091 - 2s/epoch - 2ms/step\n",
            "Epoch 47/50\n",
            "992/992 - 2s - loss: 1.5159e-04 - mse: 1.5159e-04 - mae: 0.0091 - 2s/epoch - 2ms/step\n",
            "Epoch 48/50\n",
            "992/992 - 2s - loss: 1.5061e-04 - mse: 1.5061e-04 - mae: 0.0091 - 2s/epoch - 2ms/step\n",
            "Epoch 49/50\n",
            "992/992 - 2s - loss: 1.5504e-04 - mse: 1.5504e-04 - mae: 0.0092 - 2s/epoch - 2ms/step\n",
            "Epoch 50/50\n",
            "992/992 - 2s - loss: 1.5532e-04 - mse: 1.5532e-04 - mae: 0.0091 - 2s/epoch - 2ms/step\n"
          ]
        }
      ],
      "source": [
        "# MODEL COMPILING AND TRAINING\n",
        "model.compile(loss='mean_squared_error', optimizer='adam', metrics = ['mse','mae']) # Switched from SGD to adam\n",
        "history = model.fit(trainX, trainY, epochs=50, batch_size=1, verbose=2) # Changed from 5 to 50 epochs"
      ]
    },
    {
      "cell_type": "code",
      "execution_count": 12,
      "metadata": {
        "id": "jsPNCnxGunzi"
      },
      "outputs": [],
      "source": [
        "# PREDICTION\n",
        "trainPredict = model.predict(trainX)\n",
        "testPredict = model.predict(testX)\n"
      ]
    },
    {
      "cell_type": "code",
      "execution_count": 13,
      "metadata": {
        "id": "cD0qESxrupwS"
      },
      "outputs": [],
      "source": [
        "# DE-NORMALIZING FOR PLOTTING\n",
        "trainPredict = scaler.inverse_transform(trainPredict)\n",
        "trainY = scaler.inverse_transform([trainY])\n",
        "testPredict = scaler.inverse_transform(testPredict)\n",
        "testY = scaler.inverse_transform([testY])"
      ]
    },
    {
      "cell_type": "code",
      "execution_count": 14,
      "metadata": {
        "colab": {
          "base_uri": "https://localhost:8080/"
        },
        "id": "2uNNsvhWur-8",
        "outputId": "ff7b4cea-f64d-4c14-d1f8-fd0b9ac8cfeb"
      },
      "outputs": [
        {
          "name": "stdout",
          "output_type": "stream",
          "text": [
            "Train RMSE: 0.67\n"
          ]
        }
      ],
      "source": [
        "# TRAINING RMSE\n",
        "trainScore = math.sqrt(mean_squared_error(trainY[0], trainPredict[:,0]))\n",
        "print('Train RMSE: %.2f' % (trainScore))"
      ]
    },
    {
      "cell_type": "code",
      "execution_count": 15,
      "metadata": {
        "colab": {
          "base_uri": "https://localhost:8080/"
        },
        "id": "wr3IHNxEut_2",
        "outputId": "9a9c6ab7-b4cb-4664-a39a-d079f007369f"
      },
      "outputs": [
        {
          "name": "stdout",
          "output_type": "stream",
          "text": [
            "Test RMSE: 2.88\n"
          ]
        }
      ],
      "source": [
        "# TEST RMSE\n",
        "testScore = math.sqrt(mean_squared_error(testY[0], testPredict[:,0]))\n",
        "print('Test RMSE: %.2f' % (testScore))\n"
      ]
    },
    {
      "cell_type": "code",
      "execution_count": 16,
      "metadata": {},
      "outputs": [
        {
          "data": {
            "image/png": "[encoded data removed]",
            "text/plain": [
              "<Figure size 432x288 with 1 Axes>"
            ]
          },
          "metadata": {
            "needs_background": "light"
          },
          "output_type": "display_data"
        }
      ],
      "source": [
        "# GRAPHING EVALUATION METRICS\n",
        "\n",
        "plt.plot(history.history['mae'])\n",
        "plt.plot(history.history['mse'])\n",
        "\n",
        "plt.title('Model Evaluation')\n",
        "plt.ylabel(\"Mean Average Error\")\n",
        "plt.xlabel(\"Epoch\")\n",
        "plt.show()"
      ]
    },
    {
      "cell_type": "code",
      "execution_count": 17,
      "metadata": {},
      "outputs": [
        {
          "name": "stdout",
          "output_type": "stream",
          "text": [
            "425/425 [==============================] - 2s 2ms/step - loss: 7515.3208 - mse: 7515.3208 - mae: 85.3344\n"
          ]
        }
      ],
      "source": [
        "# RESULTS FOR MAE AND MSE\n",
        "results = model.evaluate(testPredict, np.concatenate(testY), batch_size = 1)\n"
      ]
    },
    {
      "cell_type": "code",
      "execution_count": 18,
      "metadata": {
        "id": "hY5Ewgj9uvpc"
      },
      "outputs": [],
      "source": [
        "# CREATING SIMILAR DATASET TO PLOT TRAINING PREDICTIONS\n",
        "trainPredictPlot = np.empty_like(OHLC_avg)\n",
        "trainPredictPlot[:, :] = np.nan\n",
        "trainPredictPlot[step_size:len(trainPredict)+step_size, :] = trainPredict"
      ]
    },
    {
      "cell_type": "code",
      "execution_count": 19,
      "metadata": {
        "id": "Sp8xxiaZuxm4"
      },
      "outputs": [],
      "source": [
        "# CREATING SIMILAR DATASSET TO PLOT TEST PREDICTIONS\n",
        "testPredictPlot = np.empty_like(OHLC_avg)\n",
        "testPredictPlot[:, :] = np.nan\n",
        "testPredictPlot[len(trainPredict)+(step_size*2)+1:len(OHLC_avg)-1, :] = testPredict"
      ]
    },
    {
      "cell_type": "code",
      "execution_count": 20,
      "metadata": {
        "id": "G3YwUDgiuzIg"
      },
      "outputs": [],
      "source": [
        "# DE-NORMALIZING MAIN DATASET \n",
        "OHLC_avg = scaler.inverse_transform(OHLC_avg)"
      ]
    },
    {
      "cell_type": "code",
      "execution_count": 25,
      "metadata": {
        "colab": {
          "base_uri": "https://localhost:8080/",
          "height": 278
        },
        "id": "NbpeOjfOu2ND",
        "outputId": "4fecac8e-eb1e-402d-c659-25958966e88c"
      },
      "outputs": [
        {
          "data": {
            "image/png": "[encoded data removed]",
            "text/plain": [
              "<Figure size 432x288 with 1 Axes>"
            ]
          },
          "metadata": {
            "needs_background": "light"
          },
          "output_type": "display_data"
        }
      ],
      "source": [
        "# PLOT OF MAIN OHLC VALUES, TRAIN PREDICTIONS AND TEST PREDICTIONS\n",
        "plt.plot(OHLC_avg, 'g', label = 'original dataset')\n",
        "plt.plot(trainPredictPlot, 'r', label = 'training set')\n",
        "plt.plot(testPredictPlot, 'b', label = 'predicted stock price/test set')\n",
        "plt.legend(loc = 'lower right')\n",
        "plt.xlabel('Time in Days')\n",
        "plt.ylabel('OHLC Value of XLI')\n",
        "plt.savefig(\"images/XLI.png\", dpi=1000)  #Added this line to save a picture of the plot itself\n",
        "plt.show()\n"
      ]
    },
    {
      "cell_type": "code",
      "execution_count": 22,
      "metadata": {
        "id": "Rw3SofSHu4tH"
      },
      "outputs": [],
      "source": [
        "# PREDICT FUTURE VALUES (Valuation)\n",
        "last_val = testPredict[-1]\n",
        "last_val_scaled = last_val/last_val\n",
        "next_val = model.predict(np.reshape(last_val_scaled, (1,1,1)))\n"
      ]
    },
    {
      "cell_type": "code",
      "execution_count": 23,
      "metadata": {
        "colab": {
          "base_uri": "https://localhost:8080/"
        },
        "id": "lbxKGxi6iBs9",
        "outputId": "4d0296cf-44e2-442f-a5a4-6d5c4bfe6ba3"
      },
      "outputs": [
        {
          "data": {
            "text/plain": [
              "('Last Day Value:', 101.80022430419922)"
            ]
          },
          "execution_count": 23,
          "metadata": {},
          "output_type": "execute_result"
        }
      ],
      "source": [
        "# PRINT LAST VALUE\n",
        "\n",
        "\"Last Day Value:\", last_val.item()"
      ]
    },
    {
      "cell_type": "code",
      "execution_count": 24,
      "metadata": {
        "colab": {
          "base_uri": "https://localhost:8080/"
        },
        "id": "CzN9-MC2h-ya",
        "outputId": "bf30f7d3-0fa1-4762-d415-842d6b6cccf3"
      },
      "outputs": [
        {
          "data": {
            "text/plain": [
              "('Next Day Value:', 92.27513885498047)"
            ]
          },
          "execution_count": 24,
          "metadata": {},
          "output_type": "execute_result"
        }
      ],
      "source": [
        "# PRINT NEXT DAY PREDICTED VALUE\n",
        "\n",
        "\"Next Day Value:\", (last_val*next_val).item()"
      ]
    }
  ],
  "metadata": {
    "colab": {
      "collapsed_sections": [],
      "name": "Implementation_Group1.ipynb",
      "provenance": []
    },
    "kernelspec": {
      "display_name": "Python 3",
      "name": "python3"
    },
    "language_info": {
      "codemirror_mode": {
        "name": "ipython",
        "version": 3
      },
      "file_extension": ".py",
      "mimetype": "text/x-python",
      "name": "python",
      "nbconvert_exporter": "python",
      "pygments_lexer": "ipython3",
      "version": "3.9.1"
    }
  },
  "nbformat": 4,
  "nbformat_minor": 0
}
