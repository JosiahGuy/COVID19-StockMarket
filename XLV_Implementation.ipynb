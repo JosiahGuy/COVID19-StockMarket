{
  "cells": [
    {
      "cell_type": "markdown",
      "metadata": {
        "id": "O281cDhKvSKQ"
      },
      "source": [
        "Link to paper: https://www.ncbi.nlm.nih.gov/pmc/articles/PMC7948653/\n",
        "Link to GitHub: https://github.com/NourozR/Stock-Price-Prediction-LSTM/blob/master/StockPricePrediction.py"
      ]
    },
    {
      "cell_type": "markdown",
      "metadata": {
        "id": "znvTg5nevgw3"
      },
      "source": [
        "**LOAD IN preprocessing.py and INDEX.csv INTO RUNTIME FOR CODE TO RUN**"
      ]
    },
    {
      "cell_type": "code",
      "execution_count": 110,
      "metadata": {
        "id": "OMgXWiq7rF2t"
      },
      "outputs": [],
      "source": [
        "# IMPORTING IMPORTANT LIBRARIES\n",
        "import pandas as pd\n",
        "import matplotlib.pyplot as plt\n",
        "import numpy as np \n",
        "import math\n",
        "from sklearn.preprocessing import MinMaxScaler\n",
        "from sklearn.metrics import mean_squared_error\n",
        "from keras.models import Sequential\n",
        "from keras.layers import Dense, Activation\n",
        "from keras.layers import LSTM\n",
        "import preprocessing \n",
        "import yahoodata as yd # File added as a function to parse our index data"
      ]
    },
    {
      "cell_type": "code",
      "execution_count": 138,
      "metadata": {},
      "outputs": [
        {
          "data": {
            "text/html": [
              "<div>\n",
              "<style scoped>\n",
              "    .dataframe tbody tr th:only-of-type {\n",
              "        vertical-align: middle;\n",
              "    }\n",
              "\n",
              "    .dataframe tbody tr th {\n",
              "        vertical-align: top;\n",
              "    }\n",
              "\n",
              "    .dataframe thead th {\n",
              "        text-align: right;\n",
              "    }\n",
              "</style>\n",
              "<table border=\"1\" class=\"dataframe\">\n",
              "  <thead>\n",
              "    <tr style=\"text-align: right;\">\n",
              "      <th></th>\n",
              "      <th>High</th>\n",
              "      <th>Low</th>\n",
              "      <th>Open</th>\n",
              "      <th>Close</th>\n",
              "    </tr>\n",
              "    <tr>\n",
              "      <th>Date</th>\n",
              "      <th></th>\n",
              "      <th></th>\n",
              "      <th></th>\n",
              "      <th></th>\n",
              "    </tr>\n",
              "  </thead>\n",
              "  <tbody>\n",
              "    <tr>\n",
              "      <th>2016-03-31</th>\n",
              "      <td>68.290001</td>\n",
              "      <td>67.750000</td>\n",
              "      <td>67.889999</td>\n",
              "      <td>67.779999</td>\n",
              "    </tr>\n",
              "    <tr>\n",
              "      <th>2016-04-01</th>\n",
              "      <td>68.800003</td>\n",
              "      <td>67.370003</td>\n",
              "      <td>67.500000</td>\n",
              "      <td>68.550003</td>\n",
              "    </tr>\n",
              "    <tr>\n",
              "      <th>2016-04-04</th>\n",
              "      <td>69.620003</td>\n",
              "      <td>68.699997</td>\n",
              "      <td>68.709999</td>\n",
              "      <td>69.370003</td>\n",
              "    </tr>\n",
              "    <tr>\n",
              "      <th>2016-04-05</th>\n",
              "      <td>68.879997</td>\n",
              "      <td>68.309998</td>\n",
              "      <td>68.559998</td>\n",
              "      <td>68.470001</td>\n",
              "    </tr>\n",
              "    <tr>\n",
              "      <th>2016-04-06</th>\n",
              "      <td>70.339996</td>\n",
              "      <td>68.489998</td>\n",
              "      <td>68.489998</td>\n",
              "      <td>70.309998</td>\n",
              "    </tr>\n",
              "    <tr>\n",
              "      <th>...</th>\n",
              "      <td>...</td>\n",
              "      <td>...</td>\n",
              "      <td>...</td>\n",
              "      <td>...</td>\n",
              "    </tr>\n",
              "    <tr>\n",
              "      <th>2021-11-11</th>\n",
              "      <td>133.610001</td>\n",
              "      <td>132.830002</td>\n",
              "      <td>133.520004</td>\n",
              "      <td>133.149994</td>\n",
              "    </tr>\n",
              "    <tr>\n",
              "      <th>2021-11-12</th>\n",
              "      <td>134.119995</td>\n",
              "      <td>133.070007</td>\n",
              "      <td>134.000000</td>\n",
              "      <td>133.809998</td>\n",
              "    </tr>\n",
              "    <tr>\n",
              "      <th>2021-11-15</th>\n",
              "      <td>134.190002</td>\n",
              "      <td>132.850006</td>\n",
              "      <td>134.119995</td>\n",
              "      <td>132.979996</td>\n",
              "    </tr>\n",
              "    <tr>\n",
              "      <th>2021-11-16</th>\n",
              "      <td>134.259995</td>\n",
              "      <td>132.720001</td>\n",
              "      <td>132.949997</td>\n",
              "      <td>133.539993</td>\n",
              "    </tr>\n",
              "    <tr>\n",
              "      <th>2021-11-17</th>\n",
              "      <td>134.250000</td>\n",
              "      <td>133.110001</td>\n",
              "      <td>133.690002</td>\n",
              "      <td>133.729996</td>\n",
              "    </tr>\n",
              "  </tbody>\n",
              "</table>\n",
              "<p>1421 rows × 4 columns</p>\n",
              "</div>"
            ],
            "text/plain": [
              "                  High         Low        Open       Close\n",
              "Date                                                      \n",
              "2016-03-31   68.290001   67.750000   67.889999   67.779999\n",
              "2016-04-01   68.800003   67.370003   67.500000   68.550003\n",
              "2016-04-04   69.620003   68.699997   68.709999   69.370003\n",
              "2016-04-05   68.879997   68.309998   68.559998   68.470001\n",
              "2016-04-06   70.339996   68.489998   68.489998   70.309998\n",
              "...                ...         ...         ...         ...\n",
              "2021-11-11  133.610001  132.830002  133.520004  133.149994\n",
              "2021-11-12  134.119995  133.070007  134.000000  133.809998\n",
              "2021-11-15  134.190002  132.850006  134.119995  132.979996\n",
              "2021-11-16  134.259995  132.720001  132.949997  133.539993\n",
              "2021-11-17  134.250000  133.110001  133.690002  133.729996\n",
              "\n",
              "[1421 rows x 4 columns]"
            ]
          },
          "execution_count": 138,
          "metadata": {},
          "output_type": "execute_result"
        }
      ],
      "source": [
        "# IMPORTING DATASET\n",
        "# This whole cell is brand new, utilizing pullStockData function from yahoodata\n",
        "# XLV: Health Care Select Sector SPDR Fund\n",
        "\n",
        "dataset = yd.pullStockData(\"XLV\", 2016, 3, 31, 2021, 11, 17)\n",
        "\n",
        "dataset\n"
      ]
    },
    {
      "cell_type": "code",
      "execution_count": 112,
      "metadata": {
        "id": "sOdGcHays64t"
      },
      "outputs": [],
      "source": [
        "# CREATING OWN INDEX FOR FLEXIBILITY\n",
        "obs = np.arange(1, len(dataset) + 1, 1)"
      ]
    },
    {
      "cell_type": "code",
      "execution_count": 113,
      "metadata": {
        "id": "BkqmSoRYuZzz"
      },
      "outputs": [],
      "source": [
        "# TAKING DIFFERENT INDICATORS FOR PREDICTION\n",
        "OHLC_avg = dataset.mean(axis = 1)\n",
        "HLC_avg = dataset[['High', 'Low', 'Close']].mean(axis = 1)\n",
        "close_val = dataset[['Close']]"
      ]
    },
    {
      "cell_type": "code",
      "execution_count": 114,
      "metadata": {
        "colab": {
          "base_uri": "https://localhost:8080/",
          "height": 265
        },
        "id": "j-cDDLHNuaQ6",
        "outputId": "6dcd39be-9848-4660-c00e-474e563a0eee"
      },
      "outputs": [
        {
          "data": {
            "image/png": "[encoded data removed]",
            "text/plain": [
              "<Figure size 432x288 with 1 Axes>"
            ]
          },
          "metadata": {
            "needs_background": "light"
          },
          "output_type": "display_data"
        }
      ],
      "source": [
        "# PLOTTING ALL INDICATORS IN ONE PLOT\n",
        "plt.plot(obs, OHLC_avg, 'r', label = 'OHLC avg')\n",
        "plt.plot(obs, HLC_avg, 'b', label = 'HLC avg')\n",
        "plt.plot(obs, close_val, 'g', label = 'Closing price')\n",
        "plt.legend(loc = 'upper right')\n",
        "plt.show()\n"
      ]
    },
    {
      "cell_type": "code",
      "execution_count": 115,
      "metadata": {
        "id": "O0BSRoZ4ucb3"
      },
      "outputs": [],
      "source": [
        "# PREPARATION OF TIME SERIES DATASET\n",
        "OHLC_avg = np.reshape(OHLC_avg.values, (len(OHLC_avg),1))\n",
        "scaler = MinMaxScaler(feature_range=(0, 1))\n",
        "OHLC_avg = scaler.fit_transform(OHLC_avg)"
      ]
    },
    {
      "cell_type": "code",
      "execution_count": 116,
      "metadata": {
        "id": "gAPl21erueY4"
      },
      "outputs": [],
      "source": [
        "# TRAIN-TEST SPLIT\n",
        "train_OHLC = int(len(OHLC_avg) * 0.7) # Changed to a 30/70 split from original dataset\n",
        "train_OHLC_placeholder = train_OHLC\n",
        "test_OHLC = len(OHLC_avg) - train_OHLC\n",
        "train_OHLC, test_OHLC = OHLC_avg[0:train_OHLC,:], OHLC_avg[train_OHLC:len(OHLC_avg),:]"
      ]
    },
    {
      "cell_type": "code",
      "execution_count": 117,
      "metadata": {
        "id": "5Zy2U-ycugv8"
      },
      "outputs": [],
      "source": [
        "# TIME-SERIES DATASET (FOR TIME T, VALUES FOR TIME T+1)\n",
        "trainX, trainY = preprocessing.new_dataset(train_OHLC, 1)\n",
        "testX, testY = preprocessing.new_dataset(test_OHLC, 1)"
      ]
    },
    {
      "cell_type": "code",
      "execution_count": 118,
      "metadata": {
        "id": "oeSRtAcwujwu"
      },
      "outputs": [],
      "source": [
        "# RESHAPING TRAIN AND TEST DATA\n",
        "trainX = np.reshape(trainX, (trainX.shape[0], 1, trainX.shape[1]))\n",
        "testX = np.reshape(testX, (testX.shape[0], 1, testX.shape[1]))\n",
        "step_size = 1"
      ]
    },
    {
      "cell_type": "code",
      "execution_count": 119,
      "metadata": {
        "id": "rORXwjHyujrc"
      },
      "outputs": [],
      "source": [
        "# LSTM MODEL\n",
        "model = Sequential()\n",
        "model.add(LSTM(32, input_shape=(1, step_size), return_sequences = True))\n",
        "model.add(LSTM(16))\n",
        "model.add(Dense(1))\n",
        "model.add(Activation('linear'))"
      ]
    },
    {
      "cell_type": "code",
      "execution_count": 120,
      "metadata": {
        "colab": {
          "base_uri": "https://localhost:8080/"
        },
        "id": "mGO9umyxul0W",
        "outputId": "92eeacbe-c907-47ad-da1d-a75b0af20d30"
      },
      "outputs": [
        {
          "name": "stdout",
          "output_type": "stream",
          "text": [
            "Epoch 1/50\n",
            "992/992 - 6s - loss: 0.0065 - mse: 0.0065 - mae: 0.0471 - val_loss: 8.9970e-04 - val_mse: 8.9970e-04 - val_mae: 0.0265 - 6s/epoch - 6ms/step\n",
            "Epoch 2/50\n",
            "992/992 - 3s - loss: 1.6654e-04 - mse: 1.6654e-04 - mae: 0.0100 - val_loss: 4.1591e-04 - val_mse: 4.1591e-04 - val_mae: 0.0149 - 3s/epoch - 3ms/step\n",
            "Epoch 3/50\n",
            "992/992 - 2s - loss: 1.3664e-04 - mse: 1.3664e-04 - mae: 0.0088 - val_loss: 3.9250e-04 - val_mse: 3.9250e-04 - val_mae: 0.0146 - 2s/epoch - 2ms/step\n",
            "Epoch 4/50\n",
            "992/992 - 2s - loss: 1.1794e-04 - mse: 1.1794e-04 - mae: 0.0081 - val_loss: 4.1753e-04 - val_mse: 4.1753e-04 - val_mae: 0.0146 - 2s/epoch - 2ms/step\n",
            "Epoch 5/50\n",
            "992/992 - 2s - loss: 1.2756e-04 - mse: 1.2756e-04 - mae: 0.0085 - val_loss: 3.9155e-04 - val_mse: 3.9155e-04 - val_mae: 0.0147 - 2s/epoch - 2ms/step\n",
            "Epoch 6/50\n",
            "992/992 - 2s - loss: 1.1657e-04 - mse: 1.1657e-04 - mae: 0.0079 - val_loss: 4.2634e-04 - val_mse: 4.2634e-04 - val_mae: 0.0165 - 2s/epoch - 2ms/step\n",
            "Epoch 7/50\n",
            "992/992 - 2s - loss: 1.1978e-04 - mse: 1.1978e-04 - mae: 0.0082 - val_loss: 5.4051e-04 - val_mse: 5.4051e-04 - val_mae: 0.0174 - 2s/epoch - 2ms/step\n",
            "Epoch 8/50\n",
            "992/992 - 2s - loss: 1.2432e-04 - mse: 1.2432e-04 - mae: 0.0083 - val_loss: 4.0601e-04 - val_mse: 4.0601e-04 - val_mae: 0.0153 - 2s/epoch - 2ms/step\n",
            "Epoch 9/50\n",
            "992/992 - 2s - loss: 1.3066e-04 - mse: 1.3066e-04 - mae: 0.0084 - val_loss: 4.4217e-04 - val_mse: 4.4217e-04 - val_mae: 0.0170 - 2s/epoch - 2ms/step\n",
            "Epoch 10/50\n",
            "992/992 - 2s - loss: 1.2614e-04 - mse: 1.2614e-04 - mae: 0.0082 - val_loss: 5.1113e-04 - val_mse: 5.1113e-04 - val_mae: 0.0188 - 2s/epoch - 2ms/step\n",
            "Epoch 11/50\n",
            "992/992 - 2s - loss: 1.2401e-04 - mse: 1.2401e-04 - mae: 0.0083 - val_loss: 3.8768e-04 - val_mse: 3.8768e-04 - val_mae: 0.0141 - 2s/epoch - 2ms/step\n",
            "Epoch 12/50\n",
            "992/992 - 2s - loss: 1.2586e-04 - mse: 1.2586e-04 - mae: 0.0081 - val_loss: 4.1745e-04 - val_mse: 4.1745e-04 - val_mae: 0.0144 - 2s/epoch - 2ms/step\n",
            "Epoch 13/50\n",
            "992/992 - 2s - loss: 1.2440e-04 - mse: 1.2440e-04 - mae: 0.0083 - val_loss: 4.0254e-04 - val_mse: 4.0254e-04 - val_mae: 0.0156 - 2s/epoch - 2ms/step\n",
            "Epoch 14/50\n",
            "992/992 - 2s - loss: 1.2888e-04 - mse: 1.2888e-04 - mae: 0.0086 - val_loss: 4.6380e-04 - val_mse: 4.6380e-04 - val_mae: 0.0156 - 2s/epoch - 2ms/step\n",
            "Epoch 15/50\n",
            "992/992 - 2s - loss: 1.2023e-04 - mse: 1.2023e-04 - mae: 0.0081 - val_loss: 3.9574e-04 - val_mse: 3.9574e-04 - val_mae: 0.0151 - 2s/epoch - 2ms/step\n",
            "Epoch 16/50\n",
            "992/992 - 2s - loss: 1.2070e-04 - mse: 1.2070e-04 - mae: 0.0081 - val_loss: 3.9588e-04 - val_mse: 3.9588e-04 - val_mae: 0.0141 - 2s/epoch - 2ms/step\n",
            "Epoch 17/50\n",
            "992/992 - 2s - loss: 1.2685e-04 - mse: 1.2685e-04 - mae: 0.0084 - val_loss: 4.1430e-04 - val_mse: 4.1430e-04 - val_mae: 0.0159 - 2s/epoch - 2ms/step\n",
            "Epoch 18/50\n",
            "992/992 - 2s - loss: 1.1989e-04 - mse: 1.1989e-04 - mae: 0.0082 - val_loss: 3.8596e-04 - val_mse: 3.8596e-04 - val_mae: 0.0144 - 2s/epoch - 2ms/step\n",
            "Epoch 19/50\n",
            "992/992 - 2s - loss: 1.2607e-04 - mse: 1.2607e-04 - mae: 0.0084 - val_loss: 4.1516e-04 - val_mse: 4.1516e-04 - val_mae: 0.0144 - 2s/epoch - 2ms/step\n",
            "Epoch 20/50\n",
            "992/992 - 2s - loss: 1.3399e-04 - mse: 1.3399e-04 - mae: 0.0085 - val_loss: 6.3564e-04 - val_mse: 6.3564e-04 - val_mae: 0.0195 - 2s/epoch - 2ms/step\n",
            "Epoch 21/50\n",
            "992/992 - 2s - loss: 1.1851e-04 - mse: 1.1851e-04 - mae: 0.0082 - val_loss: 4.1793e-04 - val_mse: 4.1793e-04 - val_mae: 0.0161 - 2s/epoch - 2ms/step\n",
            "Epoch 22/50\n",
            "992/992 - 2s - loss: 1.1614e-04 - mse: 1.1614e-04 - mae: 0.0079 - val_loss: 4.1236e-04 - val_mse: 4.1236e-04 - val_mae: 0.0159 - 2s/epoch - 2ms/step\n",
            "Epoch 23/50\n",
            "992/992 - 2s - loss: 1.2056e-04 - mse: 1.2056e-04 - mae: 0.0081 - val_loss: 3.9779e-04 - val_mse: 3.9779e-04 - val_mae: 0.0141 - 2s/epoch - 2ms/step\n",
            "Epoch 24/50\n",
            "992/992 - 2s - loss: 1.2007e-04 - mse: 1.2007e-04 - mae: 0.0081 - val_loss: 5.4509e-04 - val_mse: 5.4509e-04 - val_mae: 0.0198 - 2s/epoch - 2ms/step\n",
            "Epoch 25/50\n",
            "992/992 - 2s - loss: 1.1905e-04 - mse: 1.1905e-04 - mae: 0.0080 - val_loss: 4.1921e-04 - val_mse: 4.1921e-04 - val_mae: 0.0143 - 2s/epoch - 2ms/step\n",
            "Epoch 26/50\n",
            "992/992 - 2s - loss: 1.1494e-04 - mse: 1.1494e-04 - mae: 0.0080 - val_loss: 5.2834e-04 - val_mse: 5.2834e-04 - val_mae: 0.0194 - 2s/epoch - 2ms/step\n",
            "Epoch 27/50\n",
            "992/992 - 2s - loss: 1.2559e-04 - mse: 1.2559e-04 - mae: 0.0083 - val_loss: 4.4825e-04 - val_mse: 4.4825e-04 - val_mae: 0.0149 - 2s/epoch - 2ms/step\n",
            "Epoch 28/50\n",
            "992/992 - 2s - loss: 1.1911e-04 - mse: 1.1911e-04 - mae: 0.0081 - val_loss: 4.2175e-04 - val_mse: 4.2175e-04 - val_mae: 0.0163 - 2s/epoch - 2ms/step\n",
            "Epoch 29/50\n",
            "992/992 - 2s - loss: 1.1294e-04 - mse: 1.1294e-04 - mae: 0.0078 - val_loss: 3.9769e-04 - val_mse: 3.9769e-04 - val_mae: 0.0142 - 2s/epoch - 2ms/step\n",
            "Epoch 30/50\n",
            "992/992 - 2s - loss: 1.1587e-04 - mse: 1.1587e-04 - mae: 0.0080 - val_loss: 4.3120e-04 - val_mse: 4.3120e-04 - val_mae: 0.0147 - 2s/epoch - 2ms/step\n",
            "Epoch 31/50\n",
            "992/992 - 2s - loss: 1.1980e-04 - mse: 1.1980e-04 - mae: 0.0081 - val_loss: 5.9844e-04 - val_mse: 5.9844e-04 - val_mae: 0.0210 - 2s/epoch - 2ms/step\n",
            "Epoch 32/50\n",
            "992/992 - 2s - loss: 1.1788e-04 - mse: 1.1788e-04 - mae: 0.0080 - val_loss: 3.8694e-04 - val_mse: 3.8694e-04 - val_mae: 0.0142 - 2s/epoch - 2ms/step\n",
            "Epoch 33/50\n",
            "992/992 - 2s - loss: 1.1474e-04 - mse: 1.1474e-04 - mae: 0.0079 - val_loss: 4.4736e-04 - val_mse: 4.4736e-04 - val_mae: 0.0174 - 2s/epoch - 2ms/step\n",
            "Epoch 34/50\n",
            "992/992 - 2s - loss: 1.1308e-04 - mse: 1.1308e-04 - mae: 0.0079 - val_loss: 4.1356e-04 - val_mse: 4.1356e-04 - val_mae: 0.0158 - 2s/epoch - 2ms/step\n",
            "Epoch 35/50\n",
            "992/992 - 2s - loss: 1.2265e-04 - mse: 1.2265e-04 - mae: 0.0081 - val_loss: 9.6931e-04 - val_mse: 9.6931e-04 - val_mae: 0.0265 - 2s/epoch - 2ms/step\n",
            "Epoch 36/50\n",
            "992/992 - 2s - loss: 1.1609e-04 - mse: 1.1609e-04 - mae: 0.0081 - val_loss: 4.0399e-04 - val_mse: 4.0399e-04 - val_mae: 0.0155 - 2s/epoch - 2ms/step\n",
            "Epoch 37/50\n",
            "992/992 - 2s - loss: 1.1926e-04 - mse: 1.1926e-04 - mae: 0.0080 - val_loss: 5.4696e-04 - val_mse: 5.4696e-04 - val_mae: 0.0200 - 2s/epoch - 2ms/step\n",
            "Epoch 38/50\n",
            "992/992 - 2s - loss: 1.0976e-04 - mse: 1.0976e-04 - mae: 0.0078 - val_loss: 3.9114e-04 - val_mse: 3.9114e-04 - val_mae: 0.0141 - 2s/epoch - 2ms/step\n",
            "Epoch 39/50\n",
            "992/992 - 2s - loss: 1.1643e-04 - mse: 1.1643e-04 - mae: 0.0079 - val_loss: 8.5150e-04 - val_mse: 8.5150e-04 - val_mae: 0.0243 - 2s/epoch - 2ms/step\n",
            "Epoch 40/50\n",
            "992/992 - 2s - loss: 1.1417e-04 - mse: 1.1417e-04 - mae: 0.0079 - val_loss: 4.1381e-04 - val_mse: 4.1381e-04 - val_mae: 0.0142 - 2s/epoch - 2ms/step\n",
            "Epoch 41/50\n",
            "992/992 - 2s - loss: 1.2241e-04 - mse: 1.2241e-04 - mae: 0.0082 - val_loss: 4.1303e-04 - val_mse: 4.1303e-04 - val_mae: 0.0161 - 2s/epoch - 2ms/step\n",
            "Epoch 42/50\n",
            "992/992 - 2s - loss: 1.1784e-04 - mse: 1.1784e-04 - mae: 0.0080 - val_loss: 4.7276e-04 - val_mse: 4.7276e-04 - val_mae: 0.0181 - 2s/epoch - 2ms/step\n",
            "Epoch 43/50\n",
            "992/992 - 2s - loss: 1.1217e-04 - mse: 1.1217e-04 - mae: 0.0078 - val_loss: 3.9182e-04 - val_mse: 3.9182e-04 - val_mae: 0.0141 - 2s/epoch - 2ms/step\n",
            "Epoch 44/50\n",
            "992/992 - 2s - loss: 1.1218e-04 - mse: 1.1218e-04 - mae: 0.0078 - val_loss: 3.8680e-04 - val_mse: 3.8680e-04 - val_mae: 0.0142 - 2s/epoch - 2ms/step\n",
            "Epoch 45/50\n",
            "992/992 - 2s - loss: 1.1761e-04 - mse: 1.1761e-04 - mae: 0.0081 - val_loss: 4.0401e-04 - val_mse: 4.0401e-04 - val_mae: 0.0141 - 2s/epoch - 2ms/step\n",
            "Epoch 46/50\n",
            "992/992 - 2s - loss: 1.1203e-04 - mse: 1.1203e-04 - mae: 0.0078 - val_loss: 3.8747e-04 - val_mse: 3.8747e-04 - val_mae: 0.0142 - 2s/epoch - 2ms/step\n",
            "Epoch 47/50\n",
            "992/992 - 2s - loss: 1.0988e-04 - mse: 1.0988e-04 - mae: 0.0076 - val_loss: 4.2649e-04 - val_mse: 4.2649e-04 - val_mae: 0.0145 - 2s/epoch - 2ms/step\n",
            "Epoch 48/50\n",
            "992/992 - 2s - loss: 1.1825e-04 - mse: 1.1825e-04 - mae: 0.0080 - val_loss: 4.3979e-04 - val_mse: 4.3979e-04 - val_mae: 0.0148 - 2s/epoch - 2ms/step\n",
            "Epoch 49/50\n",
            "992/992 - 2s - loss: 1.1901e-04 - mse: 1.1901e-04 - mae: 0.0078 - val_loss: 3.8909e-04 - val_mse: 3.8909e-04 - val_mae: 0.0143 - 2s/epoch - 2ms/step\n",
            "Epoch 50/50\n",
            "992/992 - 2s - loss: 1.1762e-04 - mse: 1.1762e-04 - mae: 0.0080 - val_loss: 5.0474e-04 - val_mse: 5.0474e-04 - val_mae: 0.0190 - 2s/epoch - 2ms/step\n"
          ]
        }
      ],
      "source": [
        "# MODEL COMPILING AND TRAINING\n",
        "model.compile(loss='mean_squared_error', optimizer='adam', metrics = ['mse','mae']) # Switched from SGD to adam\n",
        "history = model.fit(trainX, trainY, epochs=50, batch_size=1, verbose=2) # Changed from 5 to 50 epochs"
      ]
    },
    {
      "cell_type": "code",
      "execution_count": 121,
      "metadata": {
        "id": "jsPNCnxGunzi"
      },
      "outputs": [],
      "source": [
        "# PREDICTION\n",
        "trainPredict = model.predict(trainX)\n",
        "testPredict = model.predict(testX)\n"
      ]
    },
    {
      "cell_type": "code",
      "execution_count": 122,
      "metadata": {
        "id": "cD0qESxrupwS"
      },
      "outputs": [],
      "source": [
        "# DE-NORMALIZING FOR PLOTTING\n",
        "trainPredict = scaler.inverse_transform(trainPredict)\n",
        "trainY = scaler.inverse_transform([trainY])\n",
        "testPredict = scaler.inverse_transform(testPredict)\n",
        "testY = scaler.inverse_transform([testY])"
      ]
    },
    {
      "cell_type": "code",
      "execution_count": 123,
      "metadata": {
        "colab": {
          "base_uri": "https://localhost:8080/"
        },
        "id": "2uNNsvhWur-8",
        "outputId": "ff7b4cea-f64d-4c14-d1f8-fd0b9ac8cfeb"
      },
      "outputs": [
        {
          "name": "stdout",
          "output_type": "stream",
          "text": [
            "Train RMSE: 0.74\n"
          ]
        }
      ],
      "source": [
        "# TRAINING RMSE\n",
        "trainScore = math.sqrt(mean_squared_error(trainY[0], trainPredict[:,0]))\n",
        "print('Train RMSE: %.2f' % (trainScore))"
      ]
    },
    {
      "cell_type": "code",
      "execution_count": 124,
      "metadata": {
        "colab": {
          "base_uri": "https://localhost:8080/"
        },
        "id": "wr3IHNxEut_2",
        "outputId": "9a9c6ab7-b4cb-4664-a39a-d079f007369f"
      },
      "outputs": [
        {
          "name": "stdout",
          "output_type": "stream",
          "text": [
            "Test RMSE: 4.19\n"
          ]
        }
      ],
      "source": [
        "# TEST RMSE\n",
        "testScore = math.sqrt(mean_squared_error(testY[0], testPredict[:,0]))\n",
        "print('Test RMSE: %.2f' % (testScore))\n"
      ]
    },
    {
      "cell_type": "code",
      "execution_count": 125,
      "metadata": {},
      "outputs": [
        {
          "data": {
            "image/png": "[encoded data removed]",
            "text/plain": [
              "<Figure size 432x288 with 1 Axes>"
            ]
          },
          "metadata": {
            "needs_background": "light"
          },
          "output_type": "display_data"
        }
      ],
      "source": [
        "# GRAPHING EVALUATION METRICS\n",
        "\n",
        "plt.plot(history.history['mae'])\n",
        "plt.plot(history.history['mse'])\n",
        "\n",
        "plt.title('Model Evaluation')\n",
        "plt.ylabel(\"Mean Average Error\")\n",
        "plt.xlabel(\"Epoch\")\n",
        "plt.show()"
      ]
    },
    {
      "cell_type": "code",
      "execution_count": 126,
      "metadata": {},
      "outputs": [
        {
          "name": "stdout",
          "output_type": "stream",
          "text": [
            "425/425 [==============================] - 2s 2ms/step - loss: 12804.9961 - mse: 12804.9961 - mae: 112.4178\n",
            "test loss, test mae: [12804.99609375, 12804.99609375, 112.41778564453125]\n"
          ]
        }
      ],
      "source": [
        "# RESULTS FOR MAE AND MSE\n",
        "results = model.evaluate(testPredict, np.concatenate(testY), batch_size = 1)\n"
      ]
    },
    {
      "cell_type": "code",
      "execution_count": 127,
      "metadata": {
        "id": "hY5Ewgj9uvpc"
      },
      "outputs": [],
      "source": [
        "# CREATING SIMILAR DATASET TO PLOT TRAINING PREDICTIONS\n",
        "trainPredictPlot = np.empty_like(OHLC_avg)\n",
        "trainPredictPlot[:, :] = np.nan\n",
        "trainPredictPlot[step_size:len(trainPredict)+step_size, :] = trainPredict"
      ]
    },
    {
      "cell_type": "code",
      "execution_count": 128,
      "metadata": {
        "id": "Sp8xxiaZuxm4"
      },
      "outputs": [],
      "source": [
        "# CREATING SIMILAR DATASSET TO PLOT TEST PREDICTIONS\n",
        "testPredictPlot = np.empty_like(OHLC_avg)\n",
        "testPredictPlot[:, :] = np.nan\n",
        "testPredictPlot[len(trainPredict)+(step_size*2)+1:len(OHLC_avg)-1, :] = testPredict"
      ]
    },
    {
      "cell_type": "code",
      "execution_count": 129,
      "metadata": {
        "id": "G3YwUDgiuzIg"
      },
      "outputs": [],
      "source": [
        "# DE-NORMALIZING MAIN DATASET \n",
        "OHLC_avg = scaler.inverse_transform(OHLC_avg)"
      ]
    },
    {
      "cell_type": "code",
      "execution_count": 139,
      "metadata": {
        "colab": {
          "base_uri": "https://localhost:8080/",
          "height": 278
        },
        "id": "NbpeOjfOu2ND",
        "outputId": "4fecac8e-eb1e-402d-c659-25958966e88c"
      },
      "outputs": [
        {
          "data": {
            "image/png": "[encoded data removed]",
            "text/plain": [
              "<Figure size 432x288 with 1 Axes>"
            ]
          },
          "metadata": {
            "needs_background": "light"
          },
          "output_type": "display_data"
        }
      ],
      "source": [
        "# PLOT OF MAIN OHLC VALUES, TRAIN PREDICTIONS AND TEST PREDICTIONS\n",
        "plt.plot(OHLC_avg, 'g', label = 'original dataset')\n",
        "plt.plot(trainPredictPlot, 'r', label = 'training set')\n",
        "plt.plot(testPredictPlot, 'b', label = 'predicted stock price/test set')\n",
        "plt.legend(loc = 'lower right')\n",
        "plt.xlabel('Time in Days')\n",
        "plt.ylabel('OHLC Value of XLV')\n",
        "plt.savefig(\"images/XLV.png\", dpi=1000)  #Added this line to save a picture of the plot itself\n",
        "plt.show()\n"
      ]
    },
    {
      "cell_type": "code",
      "execution_count": 131,
      "metadata": {
        "id": "Rw3SofSHu4tH"
      },
      "outputs": [],
      "source": [
        "# PREDICT FUTURE VALUES (Valuation)\n",
        "last_val = testPredict[-1]\n",
        "last_val_scaled = last_val/last_val\n",
        "next_val = model.predict(np.reshape(last_val_scaled, (1,1,1)))\n"
      ]
    },
    {
      "cell_type": "code",
      "execution_count": 132,
      "metadata": {
        "colab": {
          "base_uri": "https://localhost:8080/"
        },
        "id": "lbxKGxi6iBs9",
        "outputId": "4d0296cf-44e2-442f-a5a4-6d5c4bfe6ba3"
      },
      "outputs": [
        {
          "data": {
            "text/plain": [
              "('Last Day Value:', 125.87567138671875)"
            ]
          },
          "execution_count": 132,
          "metadata": {},
          "output_type": "execute_result"
        }
      ],
      "source": [
        "# PRINT LAST VALUE\n",
        "\n",
        "\"Last Day Value:\", last_val.item()"
      ]
    },
    {
      "cell_type": "code",
      "execution_count": 133,
      "metadata": {
        "colab": {
          "base_uri": "https://localhost:8080/"
        },
        "id": "CzN9-MC2h-ya",
        "outputId": "bf30f7d3-0fa1-4762-d415-842d6b6cccf3"
      },
      "outputs": [
        {
          "data": {
            "text/plain": [
              "('Next Day Value:', 110.09723663330078)"
            ]
          },
          "execution_count": 133,
          "metadata": {},
          "output_type": "execute_result"
        }
      ],
      "source": [
        "# PRINT NEXT DAY PREDICTED VALUE\n",
        "\n",
        "\"Next Day Value:\", (last_val*next_val).item()"
      ]
    }
  ],
  "metadata": {
    "colab": {
      "collapsed_sections": [],
      "name": "Implementation_Group1.ipynb",
      "provenance": []
    },
    "kernelspec": {
      "display_name": "Python 3",
      "name": "python3"
    },
    "language_info": {
      "codemirror_mode": {
        "name": "ipython",
        "version": 3
      },
      "file_extension": ".py",
      "mimetype": "text/x-python",
      "name": "python",
      "nbconvert_exporter": "python",
      "pygments_lexer": "ipython3",
      "version": "3.9.1"
    }
  },
  "nbformat": 4,
  "nbformat_minor": 0
}
