{
  "cells": [
    {
      "cell_type": "markdown",
      "metadata": {
        "id": "O281cDhKvSKQ"
      },
      "source": [
        "Link to paper: https://www.ncbi.nlm.nih.gov/pmc/articles/PMC7948653/\n",
        "Link to GitHub: https://github.com/NourozR/Stock-Price-Prediction-LSTM/blob/master/StockPricePrediction.py"
      ]
    },
    {
      "cell_type": "markdown",
      "metadata": {
        "id": "znvTg5nevgw3"
      },
      "source": [
        "**LOAD IN preprocessing.py and INDEX.csv INTO RUNTIME FOR CODE TO RUN**"
      ]
    },
    {
      "cell_type": "code",
      "execution_count": 2,
      "metadata": {
        "id": "OMgXWiq7rF2t"
      },
      "outputs": [],
      "source": [
        "# IMPORTING IMPORTANT LIBRARIES\n",
        "import pandas as pd\n",
        "import matplotlib.pyplot as plt\n",
        "import numpy as np \n",
        "import math\n",
        "from sklearn.preprocessing import MinMaxScaler\n",
        "from sklearn.metrics import mean_squared_error\n",
        "from keras.models import Sequential\n",
        "from keras.layers import Dense, Activation\n",
        "from keras.layers import LSTM\n",
        "import preprocessing \n",
        "import yahoodata as yd # File added as a function to parse our index data"
      ]
    },
    {
      "cell_type": "code",
      "execution_count": 3,
      "metadata": {},
      "outputs": [
        {
          "data": {
            "text/html": [
              "<div>\n",
              "<style scoped>\n",
              "    .dataframe tbody tr th:only-of-type {\n",
              "        vertical-align: middle;\n",
              "    }\n",
              "\n",
              "    .dataframe tbody tr th {\n",
              "        vertical-align: top;\n",
              "    }\n",
              "\n",
              "    .dataframe thead th {\n",
              "        text-align: right;\n",
              "    }\n",
              "</style>\n",
              "<table border=\"1\" class=\"dataframe\">\n",
              "  <thead>\n",
              "    <tr style=\"text-align: right;\">\n",
              "      <th></th>\n",
              "      <th>High</th>\n",
              "      <th>Low</th>\n",
              "      <th>Open</th>\n",
              "      <th>Close</th>\n",
              "    </tr>\n",
              "    <tr>\n",
              "      <th>Date</th>\n",
              "      <th></th>\n",
              "      <th></th>\n",
              "      <th></th>\n",
              "      <th></th>\n",
              "    </tr>\n",
              "  </thead>\n",
              "  <tbody>\n",
              "    <tr>\n",
              "      <th>2021-10-01</th>\n",
              "      <td>127.930000</td>\n",
              "      <td>125.279999</td>\n",
              "      <td>127.470001</td>\n",
              "      <td>127.330002</td>\n",
              "    </tr>\n",
              "    <tr>\n",
              "      <th>2021-10-04</th>\n",
              "      <td>127.459999</td>\n",
              "      <td>124.760002</td>\n",
              "      <td>126.809998</td>\n",
              "      <td>125.389999</td>\n",
              "    </tr>\n",
              "    <tr>\n",
              "      <th>2021-10-05</th>\n",
              "      <td>127.419998</td>\n",
              "      <td>125.730003</td>\n",
              "      <td>125.900002</td>\n",
              "      <td>126.139999</td>\n",
              "    </tr>\n",
              "    <tr>\n",
              "      <th>2021-10-06</th>\n",
              "      <td>126.019997</td>\n",
              "      <td>124.500000</td>\n",
              "      <td>125.440002</td>\n",
              "      <td>125.910004</td>\n",
              "    </tr>\n",
              "    <tr>\n",
              "      <th>2021-10-07</th>\n",
              "      <td>128.399994</td>\n",
              "      <td>126.540001</td>\n",
              "      <td>126.779999</td>\n",
              "      <td>127.580002</td>\n",
              "    </tr>\n",
              "    <tr>\n",
              "      <th>2021-10-08</th>\n",
              "      <td>128.000000</td>\n",
              "      <td>126.680000</td>\n",
              "      <td>127.760002</td>\n",
              "      <td>126.940002</td>\n",
              "    </tr>\n",
              "    <tr>\n",
              "      <th>2021-10-11</th>\n",
              "      <td>127.500000</td>\n",
              "      <td>125.910004</td>\n",
              "      <td>126.830002</td>\n",
              "      <td>125.949997</td>\n",
              "    </tr>\n",
              "    <tr>\n",
              "      <th>2021-10-12</th>\n",
              "      <td>126.480003</td>\n",
              "      <td>125.025002</td>\n",
              "      <td>126.349998</td>\n",
              "      <td>125.339996</td>\n",
              "    </tr>\n",
              "    <tr>\n",
              "      <th>2021-10-13</th>\n",
              "      <td>126.105003</td>\n",
              "      <td>124.764999</td>\n",
              "      <td>125.550003</td>\n",
              "      <td>125.540001</td>\n",
              "    </tr>\n",
              "    <tr>\n",
              "      <th>2021-10-14</th>\n",
              "      <td>127.839996</td>\n",
              "      <td>126.839996</td>\n",
              "      <td>126.839996</td>\n",
              "      <td>127.339996</td>\n",
              "    </tr>\n",
              "    <tr>\n",
              "      <th>2021-10-15</th>\n",
              "      <td>128.550003</td>\n",
              "      <td>127.730003</td>\n",
              "      <td>128.000000</td>\n",
              "      <td>127.970001</td>\n",
              "    </tr>\n",
              "    <tr>\n",
              "      <th>2021-10-18</th>\n",
              "      <td>127.540001</td>\n",
              "      <td>126.550003</td>\n",
              "      <td>127.410004</td>\n",
              "      <td>127.099998</td>\n",
              "    </tr>\n",
              "    <tr>\n",
              "      <th>2021-10-19</th>\n",
              "      <td>129.100006</td>\n",
              "      <td>127.790001</td>\n",
              "      <td>127.790001</td>\n",
              "      <td>128.770004</td>\n",
              "    </tr>\n",
              "    <tr>\n",
              "      <th>2021-10-20</th>\n",
              "      <td>130.802505</td>\n",
              "      <td>129.419998</td>\n",
              "      <td>129.539993</td>\n",
              "      <td>130.610001</td>\n",
              "    </tr>\n",
              "    <tr>\n",
              "      <th>2021-10-21</th>\n",
              "      <td>131.214996</td>\n",
              "      <td>129.929993</td>\n",
              "      <td>130.880005</td>\n",
              "      <td>131.139999</td>\n",
              "    </tr>\n",
              "    <tr>\n",
              "      <th>2021-10-22</th>\n",
              "      <td>131.720001</td>\n",
              "      <td>130.820007</td>\n",
              "      <td>131.020004</td>\n",
              "      <td>131.669998</td>\n",
              "    </tr>\n",
              "    <tr>\n",
              "      <th>2021-10-25</th>\n",
              "      <td>131.974594</td>\n",
              "      <td>130.710007</td>\n",
              "      <td>131.729996</td>\n",
              "      <td>131.830002</td>\n",
              "    </tr>\n",
              "    <tr>\n",
              "      <th>2021-10-26</th>\n",
              "      <td>132.860001</td>\n",
              "      <td>131.410004</td>\n",
              "      <td>132.130005</td>\n",
              "      <td>132.479996</td>\n",
              "    </tr>\n",
              "    <tr>\n",
              "      <th>2021-10-27</th>\n",
              "      <td>132.830002</td>\n",
              "      <td>131.389999</td>\n",
              "      <td>132.690002</td>\n",
              "      <td>131.429993</td>\n",
              "    </tr>\n",
              "    <tr>\n",
              "      <th>2021-10-28</th>\n",
              "      <td>133.039993</td>\n",
              "      <td>131.664993</td>\n",
              "      <td>131.669998</td>\n",
              "      <td>132.529999</td>\n",
              "    </tr>\n",
              "    <tr>\n",
              "      <th>2021-10-29</th>\n",
              "      <td>133.990005</td>\n",
              "      <td>131.854996</td>\n",
              "      <td>132.360001</td>\n",
              "      <td>133.820007</td>\n",
              "    </tr>\n",
              "    <tr>\n",
              "      <th>2021-11-01</th>\n",
              "      <td>134.490005</td>\n",
              "      <td>133.149994</td>\n",
              "      <td>133.940002</td>\n",
              "      <td>133.660004</td>\n",
              "    </tr>\n",
              "    <tr>\n",
              "      <th>2021-11-02</th>\n",
              "      <td>135.164993</td>\n",
              "      <td>133.009995</td>\n",
              "      <td>134.179993</td>\n",
              "      <td>134.500000</td>\n",
              "    </tr>\n",
              "    <tr>\n",
              "      <th>2021-11-03</th>\n",
              "      <td>135.339996</td>\n",
              "      <td>133.740005</td>\n",
              "      <td>134.240005</td>\n",
              "      <td>135.289993</td>\n",
              "    </tr>\n",
              "    <tr>\n",
              "      <th>2021-11-04</th>\n",
              "      <td>135.190002</td>\n",
              "      <td>133.429993</td>\n",
              "      <td>134.979996</td>\n",
              "      <td>134.360001</td>\n",
              "    </tr>\n",
              "    <tr>\n",
              "      <th>2021-11-05</th>\n",
              "      <td>133.699997</td>\n",
              "      <td>131.895004</td>\n",
              "      <td>133.149994</td>\n",
              "      <td>132.860001</td>\n",
              "    </tr>\n",
              "    <tr>\n",
              "      <th>2021-11-08</th>\n",
              "      <td>133.820007</td>\n",
              "      <td>132.580002</td>\n",
              "      <td>133.100006</td>\n",
              "      <td>133.649994</td>\n",
              "    </tr>\n",
              "    <tr>\n",
              "      <th>2021-11-09</th>\n",
              "      <td>133.809998</td>\n",
              "      <td>132.899994</td>\n",
              "      <td>133.690002</td>\n",
              "      <td>133.160004</td>\n",
              "    </tr>\n",
              "    <tr>\n",
              "      <th>2021-11-10</th>\n",
              "      <td>134.080002</td>\n",
              "      <td>133.100006</td>\n",
              "      <td>133.119995</td>\n",
              "      <td>133.539993</td>\n",
              "    </tr>\n",
              "    <tr>\n",
              "      <th>2021-11-11</th>\n",
              "      <td>133.610001</td>\n",
              "      <td>132.830002</td>\n",
              "      <td>133.520004</td>\n",
              "      <td>133.149994</td>\n",
              "    </tr>\n",
              "    <tr>\n",
              "      <th>2021-11-12</th>\n",
              "      <td>134.119995</td>\n",
              "      <td>133.070007</td>\n",
              "      <td>134.000000</td>\n",
              "      <td>133.809998</td>\n",
              "    </tr>\n",
              "    <tr>\n",
              "      <th>2021-11-15</th>\n",
              "      <td>134.190002</td>\n",
              "      <td>132.850006</td>\n",
              "      <td>134.119995</td>\n",
              "      <td>132.979996</td>\n",
              "    </tr>\n",
              "    <tr>\n",
              "      <th>2021-11-16</th>\n",
              "      <td>134.264999</td>\n",
              "      <td>132.720001</td>\n",
              "      <td>132.949997</td>\n",
              "      <td>133.539993</td>\n",
              "    </tr>\n",
              "    <tr>\n",
              "      <th>2021-11-17</th>\n",
              "      <td>134.250000</td>\n",
              "      <td>133.110001</td>\n",
              "      <td>133.690002</td>\n",
              "      <td>133.729996</td>\n",
              "    </tr>\n",
              "  </tbody>\n",
              "</table>\n",
              "</div>"
            ],
            "text/plain": [
              "                  High         Low        Open       Close\n",
              "Date                                                      \n",
              "2021-10-01  127.930000  125.279999  127.470001  127.330002\n",
              "2021-10-04  127.459999  124.760002  126.809998  125.389999\n",
              "2021-10-05  127.419998  125.730003  125.900002  126.139999\n",
              "2021-10-06  126.019997  124.500000  125.440002  125.910004\n",
              "2021-10-07  128.399994  126.540001  126.779999  127.580002\n",
              "2021-10-08  128.000000  126.680000  127.760002  126.940002\n",
              "2021-10-11  127.500000  125.910004  126.830002  125.949997\n",
              "2021-10-12  126.480003  125.025002  126.349998  125.339996\n",
              "2021-10-13  126.105003  124.764999  125.550003  125.540001\n",
              "2021-10-14  127.839996  126.839996  126.839996  127.339996\n",
              "2021-10-15  128.550003  127.730003  128.000000  127.970001\n",
              "2021-10-18  127.540001  126.550003  127.410004  127.099998\n",
              "2021-10-19  129.100006  127.790001  127.790001  128.770004\n",
              "2021-10-20  130.802505  129.419998  129.539993  130.610001\n",
              "2021-10-21  131.214996  129.929993  130.880005  131.139999\n",
              "2021-10-22  131.720001  130.820007  131.020004  131.669998\n",
              "2021-10-25  131.974594  130.710007  131.729996  131.830002\n",
              "2021-10-26  132.860001  131.410004  132.130005  132.479996\n",
              "2021-10-27  132.830002  131.389999  132.690002  131.429993\n",
              "2021-10-28  133.039993  131.664993  131.669998  132.529999\n",
              "2021-10-29  133.990005  131.854996  132.360001  133.820007\n",
              "2021-11-01  134.490005  133.149994  133.940002  133.660004\n",
              "2021-11-02  135.164993  133.009995  134.179993  134.500000\n",
              "2021-11-03  135.339996  133.740005  134.240005  135.289993\n",
              "2021-11-04  135.190002  133.429993  134.979996  134.360001\n",
              "2021-11-05  133.699997  131.895004  133.149994  132.860001\n",
              "2021-11-08  133.820007  132.580002  133.100006  133.649994\n",
              "2021-11-09  133.809998  132.899994  133.690002  133.160004\n",
              "2021-11-10  134.080002  133.100006  133.119995  133.539993\n",
              "2021-11-11  133.610001  132.830002  133.520004  133.149994\n",
              "2021-11-12  134.119995  133.070007  134.000000  133.809998\n",
              "2021-11-15  134.190002  132.850006  134.119995  132.979996\n",
              "2021-11-16  134.264999  132.720001  132.949997  133.539993\n",
              "2021-11-17  134.250000  133.110001  133.690002  133.729996"
            ]
          },
          "execution_count": 3,
          "metadata": {},
          "output_type": "execute_result"
        }
      ],
      "source": [
        "# IMPORTING DATASET NEW\n",
        "# XLV: Health Care Select Sector SPDR Fund\n",
        "\n",
        "dataset = yd.pullStockData(\"XLV\", 2021, 10, 1, 2021, 11, 17)\n",
        "\n",
        "dataset\n"
      ]
    },
    {
      "cell_type": "code",
      "execution_count": 4,
      "metadata": {
        "id": "sOdGcHays64t"
      },
      "outputs": [],
      "source": [
        "# CREATING OWN INDEX FOR FLEXIBILITY\n",
        "obs = np.arange(1, len(dataset) + 1, 1)"
      ]
    },
    {
      "cell_type": "code",
      "execution_count": 5,
      "metadata": {
        "id": "BkqmSoRYuZzz"
      },
      "outputs": [],
      "source": [
        "# TAKING DIFFERENT INDICATORS FOR PREDICTION\n",
        "OHLC_avg = dataset.mean(axis = 1)\n",
        "HLC_avg = dataset[['High', 'Low', 'Close']].mean(axis = 1)\n",
        "close_val = dataset[['Close']]"
      ]
    },
    {
      "cell_type": "code",
      "execution_count": 6,
      "metadata": {
        "colab": {
          "base_uri": "https://localhost:8080/",
          "height": 265
        },
        "id": "j-cDDLHNuaQ6",
        "outputId": "6dcd39be-9848-4660-c00e-474e563a0eee"
      },
      "outputs": [
        {
          "data": {
            "image/png": "[encoded data removed]",
            "text/plain": [
              "<Figure size 432x288 with 1 Axes>"
            ]
          },
          "metadata": {
            "needs_background": "light"
          },
          "output_type": "display_data"
        }
      ],
      "source": [
        "# PLOTTING ALL INDICATORS IN ONE PLOT\n",
        "plt.plot(obs, OHLC_avg, 'r', label = 'OHLC avg')\n",
        "plt.plot(obs, HLC_avg, 'b', label = 'HLC avg')\n",
        "plt.plot(obs, close_val, 'g', label = 'Closing price')\n",
        "plt.legend(loc = 'upper right')\n",
        "plt.show()\n"
      ]
    },
    {
      "cell_type": "code",
      "execution_count": 7,
      "metadata": {
        "id": "O0BSRoZ4ucb3"
      },
      "outputs": [],
      "source": [
        "# PREPARATION OF TIME SERIES DATASET\n",
        "OHLC_avg = np.reshape(OHLC_avg.values, (len(OHLC_avg),1)) # 1664\n",
        "scaler = MinMaxScaler(feature_range=(0, 1))\n",
        "OHLC_avg = scaler.fit_transform(OHLC_avg)"
      ]
    },
    {
      "cell_type": "code",
      "execution_count": 8,
      "metadata": {
        "id": "gAPl21erueY4"
      },
      "outputs": [],
      "source": [
        "# TRAIN-TEST SPLIT\n",
        "train_OHLC = int(len(OHLC_avg) * 0.7) #Changed to a 30/70 split from original dataset\n",
        "train_OHLC_placeholder = train_OHLC\n",
        "test_OHLC = len(OHLC_avg) - train_OHLC\n",
        "train_OHLC, test_OHLC = OHLC_avg[0:train_OHLC,:], OHLC_avg[train_OHLC:len(OHLC_avg),:]"
      ]
    },
    {
      "cell_type": "code",
      "execution_count": 9,
      "metadata": {
        "id": "5Zy2U-ycugv8"
      },
      "outputs": [],
      "source": [
        "# TIME-SERIES DATASET (FOR TIME T, VALUES FOR TIME T+1)\n",
        "trainX, trainY = preprocessing.new_dataset(train_OHLC, 1)\n",
        "testX, testY = preprocessing.new_dataset(test_OHLC, 1)"
      ]
    },
    {
      "cell_type": "code",
      "execution_count": 10,
      "metadata": {
        "id": "oeSRtAcwujwu"
      },
      "outputs": [],
      "source": [
        "# RESHAPING TRAIN AND TEST DATA\n",
        "trainX = np.reshape(trainX, (trainX.shape[0], 1, trainX.shape[1]))\n",
        "testX = np.reshape(testX, (testX.shape[0], 1, testX.shape[1]))\n",
        "step_size = 1"
      ]
    },
    {
      "cell_type": "code",
      "execution_count": 11,
      "metadata": {
        "id": "rORXwjHyujrc"
      },
      "outputs": [
        {
          "name": "stderr",
          "output_type": "stream",
          "text": [
            "2021-12-10 17:53:55.551989: I tensorflow/core/platform/cpu_feature_guard.cc:151] This TensorFlow binary is optimized with oneAPI Deep Neural Network Library (oneDNN) to use the following CPU instructions in performance-critical operations:  AVX2 FMA\n",
            "To enable them in other operations, rebuild TensorFlow with the appropriate compiler flags.\n"
          ]
        }
      ],
      "source": [
        "# LSTM MODEL\n",
        "model = Sequential()\n",
        "model.add(LSTM(32, input_shape=(1, step_size), return_sequences = True))\n",
        "model.add(LSTM(16))\n",
        "model.add(Dense(1))\n",
        "model.add(Activation('linear'))"
      ]
    },
    {
      "cell_type": "code",
      "execution_count": 12,
      "metadata": {
        "colab": {
          "base_uri": "https://localhost:8080/"
        },
        "id": "mGO9umyxul0W",
        "outputId": "92eeacbe-c907-47ad-da1d-a75b0af20d30"
      },
      "outputs": [
        {
          "name": "stdout",
          "output_type": "stream",
          "text": [
            "Epoch 1/50\n",
            "21/21 - 3s - loss: 0.2197 - mse: 0.2197 - mae: 0.3641 - 3s/epoch - 124ms/step\n",
            "Epoch 2/50\n",
            "21/21 - 0s - loss: 0.1864 - mse: 0.1864 - mae: 0.3307 - 68ms/epoch - 3ms/step\n",
            "Epoch 3/50\n",
            "21/21 - 0s - loss: 0.1551 - mse: 0.1551 - mae: 0.2998 - 45ms/epoch - 2ms/step\n",
            "Epoch 4/50\n",
            "21/21 - 0s - loss: 0.1192 - mse: 0.1192 - mae: 0.2677 - 48ms/epoch - 2ms/step\n",
            "Epoch 5/50\n",
            "21/21 - 0s - loss: 0.0883 - mse: 0.0883 - mae: 0.2402 - 42ms/epoch - 2ms/step\n",
            "Epoch 6/50\n",
            "21/21 - 0s - loss: 0.0642 - mse: 0.0642 - mae: 0.2181 - 39ms/epoch - 2ms/step\n",
            "Epoch 7/50\n",
            "21/21 - 0s - loss: 0.0524 - mse: 0.0524 - mae: 0.2070 - 42ms/epoch - 2ms/step\n",
            "Epoch 8/50\n",
            "21/21 - 0s - loss: 0.0462 - mse: 0.0462 - mae: 0.1965 - 41ms/epoch - 2ms/step\n",
            "Epoch 9/50\n",
            "21/21 - 0s - loss: 0.0434 - mse: 0.0434 - mae: 0.1889 - 41ms/epoch - 2ms/step\n",
            "Epoch 10/50\n",
            "21/21 - 0s - loss: 0.0387 - mse: 0.0387 - mae: 0.1769 - 40ms/epoch - 2ms/step\n",
            "Epoch 11/50\n",
            "21/21 - 0s - loss: 0.0341 - mse: 0.0341 - mae: 0.1661 - 43ms/epoch - 2ms/step\n",
            "Epoch 12/50\n",
            "21/21 - 0s - loss: 0.0303 - mse: 0.0303 - mae: 0.1549 - 41ms/epoch - 2ms/step\n",
            "Epoch 13/50\n",
            "21/21 - 0s - loss: 0.0266 - mse: 0.0266 - mae: 0.1415 - 42ms/epoch - 2ms/step\n",
            "Epoch 14/50\n",
            "21/21 - 0s - loss: 0.0229 - mse: 0.0229 - mae: 0.1275 - 48ms/epoch - 2ms/step\n",
            "Epoch 15/50\n",
            "21/21 - 0s - loss: 0.0200 - mse: 0.0200 - mae: 0.1186 - 50ms/epoch - 2ms/step\n",
            "Epoch 16/50\n",
            "21/21 - 0s - loss: 0.0166 - mse: 0.0166 - mae: 0.1035 - 44ms/epoch - 2ms/step\n",
            "Epoch 17/50\n",
            "21/21 - 0s - loss: 0.0146 - mse: 0.0146 - mae: 0.0993 - 46ms/epoch - 2ms/step\n",
            "Epoch 18/50\n",
            "21/21 - 0s - loss: 0.0126 - mse: 0.0126 - mae: 0.0924 - 48ms/epoch - 2ms/step\n",
            "Epoch 19/50\n",
            "21/21 - 0s - loss: 0.0112 - mse: 0.0112 - mae: 0.0898 - 49ms/epoch - 2ms/step\n",
            "Epoch 20/50\n",
            "21/21 - 0s - loss: 0.0101 - mse: 0.0101 - mae: 0.0859 - 47ms/epoch - 2ms/step\n",
            "Epoch 21/50\n",
            "21/21 - 0s - loss: 0.0096 - mse: 0.0096 - mae: 0.0831 - 43ms/epoch - 2ms/step\n",
            "Epoch 22/50\n",
            "21/21 - 0s - loss: 0.0090 - mse: 0.0090 - mae: 0.0818 - 45ms/epoch - 2ms/step\n",
            "Epoch 23/50\n",
            "21/21 - 0s - loss: 0.0088 - mse: 0.0088 - mae: 0.0817 - 47ms/epoch - 2ms/step\n",
            "Epoch 24/50\n",
            "21/21 - 0s - loss: 0.0088 - mse: 0.0088 - mae: 0.0801 - 48ms/epoch - 2ms/step\n",
            "Epoch 25/50\n",
            "21/21 - 0s - loss: 0.0086 - mse: 0.0086 - mae: 0.0792 - 51ms/epoch - 2ms/step\n",
            "Epoch 26/50\n",
            "21/21 - 0s - loss: 0.0085 - mse: 0.0085 - mae: 0.0782 - 49ms/epoch - 2ms/step\n",
            "Epoch 27/50\n",
            "21/21 - 0s - loss: 0.0085 - mse: 0.0085 - mae: 0.0804 - 54ms/epoch - 3ms/step\n",
            "Epoch 28/50\n",
            "21/21 - 0s - loss: 0.0085 - mse: 0.0085 - mae: 0.0779 - 55ms/epoch - 3ms/step\n",
            "Epoch 29/50\n",
            "21/21 - 0s - loss: 0.0087 - mse: 0.0087 - mae: 0.0788 - 57ms/epoch - 3ms/step\n",
            "Epoch 30/50\n",
            "21/21 - 0s - loss: 0.0084 - mse: 0.0084 - mae: 0.0771 - 52ms/epoch - 2ms/step\n",
            "Epoch 31/50\n",
            "21/21 - 0s - loss: 0.0085 - mse: 0.0085 - mae: 0.0776 - 44ms/epoch - 2ms/step\n",
            "Epoch 32/50\n",
            "21/21 - 0s - loss: 0.0086 - mse: 0.0086 - mae: 0.0789 - 48ms/epoch - 2ms/step\n",
            "Epoch 33/50\n",
            "21/21 - 0s - loss: 0.0088 - mse: 0.0088 - mae: 0.0786 - 54ms/epoch - 3ms/step\n",
            "Epoch 34/50\n",
            "21/21 - 0s - loss: 0.0086 - mse: 0.0086 - mae: 0.0785 - 60ms/epoch - 3ms/step\n",
            "Epoch 35/50\n",
            "21/21 - 0s - loss: 0.0089 - mse: 0.0089 - mae: 0.0804 - 45ms/epoch - 2ms/step\n",
            "Epoch 36/50\n",
            "21/21 - 0s - loss: 0.0084 - mse: 0.0084 - mae: 0.0771 - 46ms/epoch - 2ms/step\n",
            "Epoch 37/50\n",
            "21/21 - 0s - loss: 0.0088 - mse: 0.0088 - mae: 0.0797 - 43ms/epoch - 2ms/step\n",
            "Epoch 38/50\n",
            "21/21 - 0s - loss: 0.0084 - mse: 0.0084 - mae: 0.0768 - 40ms/epoch - 2ms/step\n",
            "Epoch 39/50\n",
            "21/21 - 0s - loss: 0.0085 - mse: 0.0085 - mae: 0.0776 - 43ms/epoch - 2ms/step\n",
            "Epoch 40/50\n",
            "21/21 - 0s - loss: 0.0084 - mse: 0.0084 - mae: 0.0789 - 43ms/epoch - 2ms/step\n",
            "Epoch 41/50\n",
            "21/21 - 0s - loss: 0.0085 - mse: 0.0085 - mae: 0.0800 - 51ms/epoch - 2ms/step\n",
            "Epoch 42/50\n",
            "21/21 - 0s - loss: 0.0087 - mse: 0.0087 - mae: 0.0784 - 46ms/epoch - 2ms/step\n",
            "Epoch 43/50\n",
            "21/21 - 0s - loss: 0.0085 - mse: 0.0085 - mae: 0.0771 - 41ms/epoch - 2ms/step\n",
            "Epoch 44/50\n",
            "21/21 - 0s - loss: 0.0087 - mse: 0.0087 - mae: 0.0784 - 43ms/epoch - 2ms/step\n",
            "Epoch 45/50\n",
            "21/21 - 0s - loss: 0.0093 - mse: 0.0093 - mae: 0.0807 - 45ms/epoch - 2ms/step\n",
            "Epoch 46/50\n",
            "21/21 - 0s - loss: 0.0085 - mse: 0.0085 - mae: 0.0798 - 42ms/epoch - 2ms/step\n",
            "Epoch 47/50\n",
            "21/21 - 0s - loss: 0.0084 - mse: 0.0084 - mae: 0.0773 - 41ms/epoch - 2ms/step\n",
            "Epoch 48/50\n",
            "21/21 - 0s - loss: 0.0086 - mse: 0.0086 - mae: 0.0771 - 42ms/epoch - 2ms/step\n",
            "Epoch 49/50\n",
            "21/21 - 0s - loss: 0.0090 - mse: 0.0090 - mae: 0.0799 - 42ms/epoch - 2ms/step\n",
            "Epoch 50/50\n",
            "21/21 - 0s - loss: 0.0084 - mse: 0.0084 - mae: 0.0784 - 39ms/epoch - 2ms/step\n"
          ]
        }
      ],
      "source": [
        "# MODEL COMPILING AND TRAINING\n",
        "model.compile(loss='mean_squared_error', optimizer='adam', metrics = ['mse','mae']) # Try SGD, adam, adagrad and compare!!!\n",
        "history = model.fit(trainX, trainY, epochs=50, batch_size=1, verbose=2) #changed this line"
      ]
    },
    {
      "cell_type": "code",
      "execution_count": 13,
      "metadata": {
        "id": "jsPNCnxGunzi"
      },
      "outputs": [],
      "source": [
        "# PREDICTION\n",
        "trainPredict = model.predict(trainX)\n",
        "testPredict = model.predict(testX)\n"
      ]
    },
    {
      "cell_type": "code",
      "execution_count": 14,
      "metadata": {
        "id": "cD0qESxrupwS"
      },
      "outputs": [],
      "source": [
        "# DE-NORMALIZING FOR PLOTTING\n",
        "trainPredict = scaler.inverse_transform(trainPredict)\n",
        "trainY = scaler.inverse_transform([trainY])\n",
        "testPredict = scaler.inverse_transform(testPredict)\n",
        "testY = scaler.inverse_transform([testY])"
      ]
    },
    {
      "cell_type": "code",
      "execution_count": 15,
      "metadata": {
        "colab": {
          "base_uri": "https://localhost:8080/"
        },
        "id": "2uNNsvhWur-8",
        "outputId": "ff7b4cea-f64d-4c14-d1f8-fd0b9ac8cfeb"
      },
      "outputs": [
        {
          "name": "stdout",
          "output_type": "stream",
          "text": [
            "Train RMSE: 0.84\n"
          ]
        }
      ],
      "source": [
        "# TRAINING RMSE\n",
        "trainScore = math.sqrt(mean_squared_error(trainY[0], trainPredict[:,0]))\n",
        "print('Train RMSE: %.2f' % (trainScore))"
      ]
    },
    {
      "cell_type": "code",
      "execution_count": 16,
      "metadata": {
        "colab": {
          "base_uri": "https://localhost:8080/"
        },
        "id": "wr3IHNxEut_2",
        "outputId": "9a9c6ab7-b4cb-4664-a39a-d079f007369f"
      },
      "outputs": [
        {
          "name": "stdout",
          "output_type": "stream",
          "text": [
            "Test RMSE: 1.18\n"
          ]
        }
      ],
      "source": [
        "# TEST RMSE\n",
        "testScore = math.sqrt(mean_squared_error(testY[0], testPredict[:,0]))\n",
        "print('Test RMSE: %.2f' % (testScore))\n"
      ]
    },
    {
      "cell_type": "code",
      "execution_count": 17,
      "metadata": {},
      "outputs": [
        {
          "data": {
            "image/png": "[encoded data removed]",
            "text/plain": [
              "<Figure size 432x288 with 1 Axes>"
            ]
          },
          "metadata": {
            "needs_background": "light"
          },
          "output_type": "display_data"
        }
      ],
      "source": [
        "plt.plot(history.history['mae'], label = \"mae\")\n",
        "plt.plot(history.history['mse'], label = \"mse\")\n",
        "\n",
        "plt.title('Model Evaluation')\n",
        "plt.ylabel(\"MAE & MSE\")\n",
        "plt.xlabel(\"Epoch\")\n",
        "plt.legend(loc = 'upper right')\n",
        "plt.show()"
      ]
    },
    {
      "cell_type": "code",
      "execution_count": 18,
      "metadata": {},
      "outputs": [
        {
          "name": "stdout",
          "output_type": "stream",
          "text": [
            "9/9 [==============================] - 1s 2ms/step - loss: 16772.7285 - mse: 16772.7285 - mae: 129.5089\n",
            "test loss, test mae: [16772.728515625, 16772.728515625, 129.50892639160156]\n"
          ]
        }
      ],
      "source": [
        "# NEW: AUC?? Maybe not include...\n",
        "results = model.evaluate(testPredict, np.concatenate(testY), batch_size = 1)\n",
        "print(\"test loss, test mae:\", results)\n"
      ]
    },
    {
      "cell_type": "code",
      "execution_count": 19,
      "metadata": {
        "id": "hY5Ewgj9uvpc"
      },
      "outputs": [],
      "source": [
        "# CREATING SIMILAR DATASET TO PLOT TRAINING PREDICTIONS\n",
        "trainPredictPlot = np.empty_like(OHLC_avg)\n",
        "trainPredictPlot[:, :] = np.nan\n",
        "trainPredictPlot[step_size:len(trainPredict)+step_size, :] = trainPredict"
      ]
    },
    {
      "cell_type": "code",
      "execution_count": 20,
      "metadata": {
        "id": "Sp8xxiaZuxm4"
      },
      "outputs": [],
      "source": [
        "# CREATING SIMILAR DATASSET TO PLOT TEST PREDICTIONS\n",
        "testPredictPlot = np.empty_like(OHLC_avg)\n",
        "testPredictPlot[:, :] = np.nan\n",
        "testPredictPlot[len(trainPredict)+(step_size*2)+1:len(OHLC_avg)-1, :] = testPredict"
      ]
    },
    {
      "cell_type": "code",
      "execution_count": 21,
      "metadata": {
        "id": "G3YwUDgiuzIg"
      },
      "outputs": [],
      "source": [
        "# DE-NORMALIZING MAIN DATASET \n",
        "OHLC_avg = scaler.inverse_transform(OHLC_avg)"
      ]
    },
    {
      "cell_type": "code",
      "execution_count": 22,
      "metadata": {
        "colab": {
          "base_uri": "https://localhost:8080/",
          "height": 278
        },
        "id": "NbpeOjfOu2ND",
        "outputId": "4fecac8e-eb1e-402d-c659-25958966e88c"
      },
      "outputs": [
        {
          "data": {
            "image/png": "[encoded data removed]",
            "text/plain": [
              "<Figure size 432x288 with 1 Axes>"
            ]
          },
          "metadata": {
            "needs_background": "light"
          },
          "output_type": "display_data"
        }
      ],
      "source": [
        "# PLOT OF MAIN OHLC VALUES, TRAIN PREDICTIONS AND TEST PREDICTIONS\n",
        "plt.plot(OHLC_avg, 'g', label = 'original dataset')\n",
        "plt.plot(trainPredictPlot, 'r', label = 'training set')\n",
        "plt.plot(testPredictPlot, 'b', label = 'predicted stock price/test set')\n",
        "plt.legend(loc = 'lower right')\n",
        "plt.xlabel('Time in Days')\n",
        "plt.ylabel('OHLC Value of XLV')\n",
        "plt.savefig(\"images/XLV_lag.png\", dpi=1000)\n",
        "plt.show()\n"
      ]
    },
    {
      "cell_type": "code",
      "execution_count": 23,
      "metadata": {
        "id": "Rw3SofSHu4tH"
      },
      "outputs": [],
      "source": [
        "# PREDICT FUTURE VALUES\n",
        "last_val = testPredict[-1]\n",
        "last_val_scaled = last_val/last_val\n",
        "next_val = model.predict(np.reshape(last_val_scaled, (1,1,1)))\n",
        "# print np.append(last_val, next_val)\n"
      ]
    },
    {
      "cell_type": "code",
      "execution_count": 24,
      "metadata": {
        "colab": {
          "base_uri": "https://localhost:8080/"
        },
        "id": "lbxKGxi6iBs9",
        "outputId": "4d0296cf-44e2-442f-a5a4-6d5c4bfe6ba3"
      },
      "outputs": [
        {
          "data": {
            "text/plain": [
              "('Last Day Value:', 134.30198669433594)"
            ]
          },
          "execution_count": 24,
          "metadata": {},
          "output_type": "execute_result"
        }
      ],
      "source": [
        "\"Last Day Value:\", last_val.item()"
      ]
    },
    {
      "cell_type": "code",
      "execution_count": 25,
      "metadata": {
        "colab": {
          "base_uri": "https://localhost:8080/"
        },
        "id": "CzN9-MC2h-ya",
        "outputId": "bf30f7d3-0fa1-4762-d415-842d6b6cccf3"
      },
      "outputs": [
        {
          "data": {
            "text/plain": [
              "('Next Day Value:', 150.8868865966797)"
            ]
          },
          "execution_count": 25,
          "metadata": {},
          "output_type": "execute_result"
        }
      ],
      "source": [
        "#This is our valuation set. Basically, we now know that the data isn't seeing future data that it isn't supposed to see. Rather, it's making true predictions!\n",
        "\n",
        "\"Next Day Value:\", (last_val*next_val).item()"
      ]
    }
  ],
  "metadata": {
    "colab": {
      "collapsed_sections": [],
      "name": "Implementation_Group1.ipynb",
      "provenance": []
    },
    "kernelspec": {
      "display_name": "Python 3",
      "name": "python3"
    },
    "language_info": {
      "codemirror_mode": {
        "name": "ipython",
        "version": 3
      },
      "file_extension": ".py",
      "mimetype": "text/x-python",
      "name": "python",
      "nbconvert_exporter": "python",
      "pygments_lexer": "ipython3",
      "version": "3.9.1"
    }
  },
  "nbformat": 4,
  "nbformat_minor": 0
}
