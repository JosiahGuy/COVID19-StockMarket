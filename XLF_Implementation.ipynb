{
  "cells": [
    {
      "cell_type": "markdown",
      "metadata": {
        "id": "O281cDhKvSKQ"
      },
      "source": [
        "Link to paper: https://www.ncbi.nlm.nih.gov/pmc/articles/PMC7948653/\n",
        "Link to GitHub: https://github.com/NourozR/Stock-Price-Prediction-LSTM/blob/master/StockPricePrediction.py"
      ]
    },
    {
      "cell_type": "markdown",
      "metadata": {
        "id": "znvTg5nevgw3"
      },
      "source": [
        "**LOAD IN preprocessing.py and INDEX.csv INTO RUNTIME FOR CODE TO RUN**"
      ]
    },
    {
      "cell_type": "code",
      "execution_count": 1,
      "metadata": {
        "id": "OMgXWiq7rF2t"
      },
      "outputs": [],
      "source": [
        "# IMPORTING IMPORTANT LIBRARIES\n",
        "import pandas as pd\n",
        "import matplotlib.pyplot as plt\n",
        "import numpy as np \n",
        "import math\n",
        "from sklearn.preprocessing import MinMaxScaler\n",
        "from sklearn.metrics import mean_squared_error\n",
        "from keras.models import Sequential\n",
        "from keras.layers import Dense, Activation\n",
        "from keras.layers import LSTM\n",
        "import preprocessing \n",
        "import yahoodata as yd # File added as a function to parse our index data"
      ]
    },
    {
      "cell_type": "code",
      "execution_count": 2,
      "metadata": {
        "id": "ISaE91ZlshAE"
      },
      "outputs": [],
      "source": [
        "# FOR REPRODUCIBILITY\n",
        "np.random.seed(7)"
      ]
    },
    {
      "cell_type": "code",
      "execution_count": 3,
      "metadata": {
        "colab": {
          "base_uri": "https://localhost:8080/",
          "height": 408
        },
        "id": "71sp873jskDX",
        "outputId": "9cac837d-7ffd-46a6-975e-120e32465302"
      },
      "outputs": [
        {
          "data": {
            "text/html": [
              "<div>\n",
              "<style scoped>\n",
              "    .dataframe tbody tr th:only-of-type {\n",
              "        vertical-align: middle;\n",
              "    }\n",
              "\n",
              "    .dataframe tbody tr th {\n",
              "        vertical-align: top;\n",
              "    }\n",
              "\n",
              "    .dataframe thead th {\n",
              "        text-align: right;\n",
              "    }\n",
              "</style>\n",
              "<table border=\"1\" class=\"dataframe\">\n",
              "  <thead>\n",
              "    <tr style=\"text-align: right;\">\n",
              "      <th></th>\n",
              "      <th>High</th>\n",
              "      <th>Low</th>\n",
              "      <th>Open</th>\n",
              "      <th>Close</th>\n",
              "    </tr>\n",
              "    <tr>\n",
              "      <th>Date</th>\n",
              "      <th></th>\n",
              "      <th></th>\n",
              "      <th></th>\n",
              "      <th></th>\n",
              "    </tr>\n",
              "  </thead>\n",
              "  <tbody>\n",
              "    <tr>\n",
              "      <th>2018-01-02</th>\n",
              "      <td>28.090000</td>\n",
              "      <td>27.790001</td>\n",
              "      <td>28.090000</td>\n",
              "      <td>27.920000</td>\n",
              "    </tr>\n",
              "    <tr>\n",
              "      <th>2018-01-03</th>\n",
              "      <td>28.090000</td>\n",
              "      <td>27.879999</td>\n",
              "      <td>27.969999</td>\n",
              "      <td>28.070000</td>\n",
              "    </tr>\n",
              "    <tr>\n",
              "      <th>2018-01-04</th>\n",
              "      <td>28.540001</td>\n",
              "      <td>28.180000</td>\n",
              "      <td>28.230000</td>\n",
              "      <td>28.330000</td>\n",
              "    </tr>\n",
              "    <tr>\n",
              "      <th>2018-01-05</th>\n",
              "      <td>28.480000</td>\n",
              "      <td>28.230000</td>\n",
              "      <td>28.480000</td>\n",
              "      <td>28.410000</td>\n",
              "    </tr>\n",
              "    <tr>\n",
              "      <th>2018-01-08</th>\n",
              "      <td>28.430000</td>\n",
              "      <td>28.270000</td>\n",
              "      <td>28.379999</td>\n",
              "      <td>28.370001</td>\n",
              "    </tr>\n",
              "    <tr>\n",
              "      <th>...</th>\n",
              "      <td>...</td>\n",
              "      <td>...</td>\n",
              "      <td>...</td>\n",
              "      <td>...</td>\n",
              "    </tr>\n",
              "    <tr>\n",
              "      <th>2021-11-11</th>\n",
              "      <td>40.189999</td>\n",
              "      <td>39.840000</td>\n",
              "      <td>40.009998</td>\n",
              "      <td>40.060001</td>\n",
              "    </tr>\n",
              "    <tr>\n",
              "      <th>2021-11-12</th>\n",
              "      <td>40.160000</td>\n",
              "      <td>39.790001</td>\n",
              "      <td>40.119999</td>\n",
              "      <td>40.150002</td>\n",
              "    </tr>\n",
              "    <tr>\n",
              "      <th>2021-11-15</th>\n",
              "      <td>40.360001</td>\n",
              "      <td>40.070000</td>\n",
              "      <td>40.259998</td>\n",
              "      <td>40.150002</td>\n",
              "    </tr>\n",
              "    <tr>\n",
              "      <th>2021-11-16</th>\n",
              "      <td>40.349998</td>\n",
              "      <td>40.000000</td>\n",
              "      <td>40.200001</td>\n",
              "      <td>40.110001</td>\n",
              "    </tr>\n",
              "    <tr>\n",
              "      <th>2021-11-17</th>\n",
              "      <td>40.049999</td>\n",
              "      <td>39.540001</td>\n",
              "      <td>40.049999</td>\n",
              "      <td>39.650002</td>\n",
              "    </tr>\n",
              "  </tbody>\n",
              "</table>\n",
              "<p>978 rows × 4 columns</p>\n",
              "</div>"
            ],
            "text/plain": [
              "                 High        Low       Open      Close\n",
              "Date                                                  \n",
              "2018-01-02  28.090000  27.790001  28.090000  27.920000\n",
              "2018-01-03  28.090000  27.879999  27.969999  28.070000\n",
              "2018-01-04  28.540001  28.180000  28.230000  28.330000\n",
              "2018-01-05  28.480000  28.230000  28.480000  28.410000\n",
              "2018-01-08  28.430000  28.270000  28.379999  28.370001\n",
              "...               ...        ...        ...        ...\n",
              "2021-11-11  40.189999  39.840000  40.009998  40.060001\n",
              "2021-11-12  40.160000  39.790001  40.119999  40.150002\n",
              "2021-11-15  40.360001  40.070000  40.259998  40.150002\n",
              "2021-11-16  40.349998  40.000000  40.200001  40.110001\n",
              "2021-11-17  40.049999  39.540001  40.049999  39.650002\n",
              "\n",
              "[978 rows x 4 columns]"
            ]
          },
          "execution_count": 3,
          "metadata": {},
          "output_type": "execute_result"
        }
      ],
      "source": [
        "# IMPORTING DATASET (Skipped)\n",
        "# XLF: Financial Select Sector SPDR Fund\n",
        "\n",
        "dataset = yd.yahooData(\"XLF\")\n",
        "dataset\n"
      ]
    },
    {
      "cell_type": "code",
      "execution_count": 4,
      "metadata": {
        "id": "sOdGcHays64t"
      },
      "outputs": [],
      "source": [
        "# CREATING OWN INDEX FOR FLEXIBILITY\n",
        "obs = np.arange(1, len(dataset) + 1, 1)"
      ]
    },
    {
      "cell_type": "code",
      "execution_count": 5,
      "metadata": {
        "id": "BkqmSoRYuZzz"
      },
      "outputs": [],
      "source": [
        "# TAKING DIFFERENT INDICATORS FOR PREDICTION\n",
        "OHLC_avg = dataset.mean(axis = 1)\n",
        "HLC_avg = dataset[['High', 'Low', 'Close']].mean(axis = 1)\n",
        "close_val = dataset[['Close']]"
      ]
    },
    {
      "cell_type": "code",
      "execution_count": 6,
      "metadata": {
        "colab": {
          "base_uri": "https://localhost:8080/",
          "height": 265
        },
        "id": "j-cDDLHNuaQ6",
        "outputId": "6dcd39be-9848-4660-c00e-474e563a0eee"
      },
      "outputs": [
        {
          "data": {
            "image/png": "[encoded data removed]",
            "text/plain": [
              "<Figure size 432x288 with 1 Axes>"
            ]
          },
          "metadata": {
            "needs_background": "light"
          },
          "output_type": "display_data"
        }
      ],
      "source": [
        "# PLOTTING ALL INDICATORS IN ONE PLOT\n",
        "plt.plot(obs, OHLC_avg, 'r', label = 'OHLC avg')\n",
        "plt.plot(obs, HLC_avg, 'b', label = 'HLC avg')\n",
        "plt.plot(obs, close_val, 'g', label = 'Closing price')\n",
        "plt.legend(loc = 'upper right')\n",
        "plt.show()\n"
      ]
    },
    {
      "cell_type": "code",
      "execution_count": 7,
      "metadata": {
        "id": "O0BSRoZ4ucb3"
      },
      "outputs": [],
      "source": [
        "# PREPARATION OF TIME SERIES DATASE\n",
        "OHLC_avg = np.reshape(OHLC_avg.values, (len(OHLC_avg),1)) # 1664\n",
        "scaler = MinMaxScaler(feature_range=(0, 1))\n",
        "OHLC_avg = scaler.fit_transform(OHLC_avg)\n"
      ]
    },
    {
      "cell_type": "code",
      "execution_count": 8,
      "metadata": {
        "id": "gAPl21erueY4"
      },
      "outputs": [],
      "source": [
        "# TRAIN-TEST SPLIT\n",
        "train_OHLC = int(len(OHLC_avg) * 0.75)\n",
        "test_OHLC = len(OHLC_avg) - train_OHLC\n",
        "train_OHLC, test_OHLC = OHLC_avg[0:train_OHLC,:], OHLC_avg[train_OHLC:len(OHLC_avg),:]"
      ]
    },
    {
      "cell_type": "code",
      "execution_count": 9,
      "metadata": {
        "id": "5Zy2U-ycugv8"
      },
      "outputs": [],
      "source": [
        "# TIME-SERIES DATASET (FOR TIME T, VALUES FOR TIME T+1)\n",
        "trainX, trainY = preprocessing.new_dataset(train_OHLC, 1)\n",
        "testX, testY = preprocessing.new_dataset(test_OHLC, 1)"
      ]
    },
    {
      "cell_type": "code",
      "execution_count": 10,
      "metadata": {
        "id": "oeSRtAcwujwu"
      },
      "outputs": [],
      "source": [
        "# RESHAPING TRAIN AND TEST DATA\n",
        "trainX = np.reshape(trainX, (trainX.shape[0], 1, trainX.shape[1]))\n",
        "testX = np.reshape(testX, (testX.shape[0], 1, testX.shape[1]))\n",
        "step_size = 1"
      ]
    },
    {
      "cell_type": "code",
      "execution_count": 11,
      "metadata": {
        "id": "rORXwjHyujrc"
      },
      "outputs": [
        {
          "name": "stderr",
          "output_type": "stream",
          "text": [
            "2021-11-24 13:51:41.032811: I tensorflow/core/platform/cpu_feature_guard.cc:151] This TensorFlow binary is optimized with oneAPI Deep Neural Network Library (oneDNN) to use the following CPU instructions in performance-critical operations:  AVX2 FMA\n",
            "To enable them in other operations, rebuild TensorFlow with the appropriate compiler flags.\n"
          ]
        }
      ],
      "source": [
        "# LSTM MODEL\n",
        "model = Sequential()\n",
        "model.add(LSTM(32, input_shape=(1, step_size), return_sequences = True))\n",
        "model.add(LSTM(16))\n",
        "model.add(Dense(1))\n",
        "model.add(Activation('linear'))"
      ]
    },
    {
      "cell_type": "code",
      "execution_count": 12,
      "metadata": {
        "colab": {
          "base_uri": "https://localhost:8080/"
        },
        "id": "mGO9umyxul0W",
        "outputId": "92eeacbe-c907-47ad-da1d-a75b0af20d30"
      },
      "outputs": [
        {
          "name": "stdout",
          "output_type": "stream",
          "text": [
            "Epoch 1/5\n",
            "731/731 - 4s - loss: 0.0118 - 4s/epoch - 6ms/step\n",
            "Epoch 2/5\n",
            "731/731 - 1s - loss: 4.4882e-04 - 1s/epoch - 2ms/step\n",
            "Epoch 3/5\n",
            "731/731 - 1s - loss: 3.9631e-04 - 1s/epoch - 2ms/step\n",
            "Epoch 4/5\n",
            "731/731 - 1s - loss: 3.9497e-04 - 1s/epoch - 2ms/step\n",
            "Epoch 5/5\n",
            "731/731 - 2s - loss: 3.7137e-04 - 2s/epoch - 2ms/step\n"
          ]
        },
        {
          "data": {
            "text/plain": [
              "<keras.callbacks.History at 0x14606bcd0>"
            ]
          },
          "execution_count": 12,
          "metadata": {},
          "output_type": "execute_result"
        }
      ],
      "source": [
        "# MODEL COMPILING AND TRAINING\n",
        "model.compile(loss='mean_squared_error', optimizer='adam') # Try SGD, adam, adagrad and compare!!!\n",
        "model.fit(trainX, trainY, epochs=5, batch_size=1, verbose=2)"
      ]
    },
    {
      "cell_type": "code",
      "execution_count": 13,
      "metadata": {
        "id": "jsPNCnxGunzi"
      },
      "outputs": [],
      "source": [
        "# PREDICTION\n",
        "trainPredict = model.predict(trainX)\n",
        "testPredict = model.predict(testX)\n"
      ]
    },
    {
      "cell_type": "code",
      "execution_count": 14,
      "metadata": {
        "id": "cD0qESxrupwS"
      },
      "outputs": [],
      "source": [
        "# DE-NORMALIZING FOR PLOTTING\n",
        "trainPredict = scaler.inverse_transform(trainPredict)\n",
        "trainY = scaler.inverse_transform([trainY])\n",
        "testPredict = scaler.inverse_transform(testPredict)\n",
        "testY = scaler.inverse_transform([testY])"
      ]
    },
    {
      "cell_type": "code",
      "execution_count": 15,
      "metadata": {
        "colab": {
          "base_uri": "https://localhost:8080/"
        },
        "id": "2uNNsvhWur-8",
        "outputId": "ff7b4cea-f64d-4c14-d1f8-fd0b9ac8cfeb"
      },
      "outputs": [
        {
          "name": "stdout",
          "output_type": "stream",
          "text": [
            "Train RMSE: 0.40\n"
          ]
        }
      ],
      "source": [
        "# TRAINING RMSE\n",
        "trainScore = math.sqrt(mean_squared_error(trainY[0], trainPredict[:,0]))\n",
        "print('Train RMSE: %.2f' % (trainScore))"
      ]
    },
    {
      "cell_type": "code",
      "execution_count": 16,
      "metadata": {
        "colab": {
          "base_uri": "https://localhost:8080/"
        },
        "id": "wr3IHNxEut_2",
        "outputId": "9a9c6ab7-b4cb-4664-a39a-d079f007369f"
      },
      "outputs": [
        {
          "name": "stdout",
          "output_type": "stream",
          "text": [
            "Test RMSE: 1.50\n"
          ]
        }
      ],
      "source": [
        "# TEST RMSE\n",
        "testScore = math.sqrt(mean_squared_error(testY[0], testPredict[:,0]))\n",
        "print('Test RMSE: %.2f' % (testScore))\n"
      ]
    },
    {
      "cell_type": "code",
      "execution_count": 17,
      "metadata": {
        "id": "hY5Ewgj9uvpc"
      },
      "outputs": [],
      "source": [
        "# CREATING SIMILAR DATASET TO PLOT TRAINING PREDICTIONS\n",
        "trainPredictPlot = np.empty_like(OHLC_avg)\n",
        "trainPredictPlot[:, :] = np.nan\n",
        "trainPredictPlot[step_size:len(trainPredict)+step_size, :] = trainPredict"
      ]
    },
    {
      "cell_type": "code",
      "execution_count": 18,
      "metadata": {
        "id": "Sp8xxiaZuxm4"
      },
      "outputs": [],
      "source": [
        "# CREATING SIMILAR DATASSET TO PLOT TEST PREDICTIONS\n",
        "testPredictPlot = np.empty_like(OHLC_avg)\n",
        "testPredictPlot[:, :] = np.nan\n",
        "testPredictPlot[len(trainPredict)+(step_size*2)+1:len(OHLC_avg)-1, :] = testPredict"
      ]
    },
    {
      "cell_type": "code",
      "execution_count": 19,
      "metadata": {
        "id": "G3YwUDgiuzIg"
      },
      "outputs": [],
      "source": [
        "# DE-NORMALIZING MAIN DATASET \n",
        "OHLC_avg = scaler.inverse_transform(OHLC_avg)"
      ]
    },
    {
      "cell_type": "code",
      "execution_count": 20,
      "metadata": {
        "colab": {
          "base_uri": "https://localhost:8080/",
          "height": 278
        },
        "id": "NbpeOjfOu2ND",
        "outputId": "4fecac8e-eb1e-402d-c659-25958966e88c"
      },
      "outputs": [
        {
          "data": {
            "image/png": "[encoded data removed]",
            "text/plain": [
              "<Figure size 432x288 with 1 Axes>"
            ]
          },
          "metadata": {
            "needs_background": "light"
          },
          "output_type": "display_data"
        }
      ],
      "source": [
        "# PLOT OF MAIN OHLC VALUES, TRAIN PREDICTIONS AND TEST PREDICTIONS\n",
        "plt.plot(OHLC_avg, 'g', label = 'original dataset')\n",
        "plt.plot(trainPredictPlot, 'r', label = 'training set')\n",
        "plt.plot(testPredictPlot, 'b', label = 'predicted stock price/test set')\n",
        "plt.legend(loc = 'upper right')\n",
        "plt.xlabel('Time in Days')\n",
        "plt.ylabel('OHLC Value of Apple Stocks')\n",
        "plt.show()\n"
      ]
    },
    {
      "cell_type": "code",
      "execution_count": 21,
      "metadata": {
        "id": "Rw3SofSHu4tH"
      },
      "outputs": [],
      "source": [
        "# PREDICT FUTURE VALUES\n",
        "last_val = testPredict[-1]\n",
        "last_val_scaled = last_val/last_val\n",
        "next_val = model.predict(np.reshape(last_val_scaled, (1,1,1)))\n",
        "# print np.append(last_val, next_val)\n"
      ]
    },
    {
      "cell_type": "code",
      "execution_count": 22,
      "metadata": {
        "colab": {
          "base_uri": "https://localhost:8080/"
        },
        "id": "lbxKGxi6iBs9",
        "outputId": "4d0296cf-44e2-442f-a5a4-6d5c4bfe6ba3"
      },
      "outputs": [
        {
          "data": {
            "text/plain": [
              "('Last Day Value:', 42.660152435302734)"
            ]
          },
          "execution_count": 22,
          "metadata": {},
          "output_type": "execute_result"
        }
      ],
      "source": [
        "\"Last Day Value:\", last_val.item()"
      ]
    },
    {
      "cell_type": "code",
      "execution_count": 23,
      "metadata": {
        "colab": {
          "base_uri": "https://localhost:8080/"
        },
        "id": "CzN9-MC2h-ya",
        "outputId": "bf30f7d3-0fa1-4762-d415-842d6b6cccf3"
      },
      "outputs": [
        {
          "data": {
            "text/plain": [
              "('Next Day Value:', 47.51424026489258)"
            ]
          },
          "execution_count": 23,
          "metadata": {},
          "output_type": "execute_result"
        }
      ],
      "source": [
        "\"Next Day Value:\", (last_val*next_val).item()"
      ]
    }
  ],
  "metadata": {
    "colab": {
      "collapsed_sections": [],
      "name": "Implementation_Group1.ipynb",
      "provenance": []
    },
    "kernelspec": {
      "display_name": "Python 3",
      "name": "python3"
    },
    "language_info": {
      "codemirror_mode": {
        "name": "ipython",
        "version": 3
      },
      "file_extension": ".py",
      "mimetype": "text/x-python",
      "name": "python",
      "nbconvert_exporter": "python",
      "pygments_lexer": "ipython3",
      "version": "3.9.1"
    }
  },
  "nbformat": 4,
  "nbformat_minor": 0
}
