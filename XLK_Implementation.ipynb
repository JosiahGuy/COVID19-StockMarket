{
  "cells": [
    {
      "cell_type": "markdown",
      "metadata": {
        "id": "O281cDhKvSKQ"
      },
      "source": [
        "Link to paper: https://www.ncbi.nlm.nih.gov/pmc/articles/PMC7948653/\n",
        "Link to GitHub: https://github.com/NourozR/Stock-Price-Prediction-LSTM/blob/master/StockPricePrediction.py"
      ]
    },
    {
      "cell_type": "markdown",
      "metadata": {
        "id": "znvTg5nevgw3"
      },
      "source": [
        "**LOAD IN preprocessing.py and INDEX.csv INTO RUNTIME FOR CODE TO RUN**"
      ]
    },
    {
      "cell_type": "code",
      "execution_count": 1,
      "metadata": {
        "id": "OMgXWiq7rF2t"
      },
      "outputs": [],
      "source": [
        "# IMPORTING IMPORTANT LIBRARIES\n",
        "import pandas as pd\n",
        "import matplotlib.pyplot as plt\n",
        "import numpy as np \n",
        "import math\n",
        "from sklearn.preprocessing import MinMaxScaler\n",
        "from sklearn.metrics import mean_squared_error\n",
        "from keras.models import Sequential\n",
        "from keras.layers import Dense, Activation\n",
        "from keras.layers import LSTM\n",
        "import preprocessing \n",
        "import yahoodata as yd # File added as a function to parse our index data"
      ]
    },
    {
      "cell_type": "code",
      "execution_count": 2,
      "metadata": {},
      "outputs": [
        {
          "data": {
            "text/html": [
              "<div>\n",
              "<style scoped>\n",
              "    .dataframe tbody tr th:only-of-type {\n",
              "        vertical-align: middle;\n",
              "    }\n",
              "\n",
              "    .dataframe tbody tr th {\n",
              "        vertical-align: top;\n",
              "    }\n",
              "\n",
              "    .dataframe thead th {\n",
              "        text-align: right;\n",
              "    }\n",
              "</style>\n",
              "<table border=\"1\" class=\"dataframe\">\n",
              "  <thead>\n",
              "    <tr style=\"text-align: right;\">\n",
              "      <th></th>\n",
              "      <th>High</th>\n",
              "      <th>Low</th>\n",
              "      <th>Open</th>\n",
              "      <th>Close</th>\n",
              "    </tr>\n",
              "    <tr>\n",
              "      <th>Date</th>\n",
              "      <th></th>\n",
              "      <th></th>\n",
              "      <th></th>\n",
              "      <th></th>\n",
              "    </tr>\n",
              "  </thead>\n",
              "  <tbody>\n",
              "    <tr>\n",
              "      <th>2016-03-31</th>\n",
              "      <td>44.580002</td>\n",
              "      <td>44.279999</td>\n",
              "      <td>44.389999</td>\n",
              "      <td>44.360001</td>\n",
              "    </tr>\n",
              "    <tr>\n",
              "      <th>2016-04-01</th>\n",
              "      <td>44.720001</td>\n",
              "      <td>44.009998</td>\n",
              "      <td>44.049999</td>\n",
              "      <td>44.700001</td>\n",
              "    </tr>\n",
              "    <tr>\n",
              "      <th>2016-04-04</th>\n",
              "      <td>44.730000</td>\n",
              "      <td>44.439999</td>\n",
              "      <td>44.630001</td>\n",
              "      <td>44.529999</td>\n",
              "    </tr>\n",
              "    <tr>\n",
              "      <th>2016-04-05</th>\n",
              "      <td>44.349998</td>\n",
              "      <td>44.009998</td>\n",
              "      <td>44.240002</td>\n",
              "      <td>44.099998</td>\n",
              "    </tr>\n",
              "    <tr>\n",
              "      <th>2016-04-06</th>\n",
              "      <td>44.529999</td>\n",
              "      <td>43.950001</td>\n",
              "      <td>44.110001</td>\n",
              "      <td>44.529999</td>\n",
              "    </tr>\n",
              "    <tr>\n",
              "      <th>...</th>\n",
              "      <td>...</td>\n",
              "      <td>...</td>\n",
              "      <td>...</td>\n",
              "      <td>...</td>\n",
              "    </tr>\n",
              "    <tr>\n",
              "      <th>2021-11-11</th>\n",
              "      <td>165.779999</td>\n",
              "      <td>165.029999</td>\n",
              "      <td>165.710007</td>\n",
              "      <td>165.300003</td>\n",
              "    </tr>\n",
              "    <tr>\n",
              "      <th>2021-11-12</th>\n",
              "      <td>167.589996</td>\n",
              "      <td>165.570007</td>\n",
              "      <td>165.850006</td>\n",
              "      <td>167.309998</td>\n",
              "    </tr>\n",
              "    <tr>\n",
              "      <th>2021-11-15</th>\n",
              "      <td>168.220001</td>\n",
              "      <td>166.190002</td>\n",
              "      <td>167.979996</td>\n",
              "      <td>167.139999</td>\n",
              "    </tr>\n",
              "    <tr>\n",
              "      <th>2021-11-16</th>\n",
              "      <td>169.130005</td>\n",
              "      <td>166.839996</td>\n",
              "      <td>166.940002</td>\n",
              "      <td>168.899994</td>\n",
              "    </tr>\n",
              "    <tr>\n",
              "      <th>2021-11-17</th>\n",
              "      <td>169.449997</td>\n",
              "      <td>167.860001</td>\n",
              "      <td>168.570007</td>\n",
              "      <td>168.389999</td>\n",
              "    </tr>\n",
              "  </tbody>\n",
              "</table>\n",
              "<p>1421 rows × 4 columns</p>\n",
              "</div>"
            ],
            "text/plain": [
              "                  High         Low        Open       Close\n",
              "Date                                                      \n",
              "2016-03-31   44.580002   44.279999   44.389999   44.360001\n",
              "2016-04-01   44.720001   44.009998   44.049999   44.700001\n",
              "2016-04-04   44.730000   44.439999   44.630001   44.529999\n",
              "2016-04-05   44.349998   44.009998   44.240002   44.099998\n",
              "2016-04-06   44.529999   43.950001   44.110001   44.529999\n",
              "...                ...         ...         ...         ...\n",
              "2021-11-11  165.779999  165.029999  165.710007  165.300003\n",
              "2021-11-12  167.589996  165.570007  165.850006  167.309998\n",
              "2021-11-15  168.220001  166.190002  167.979996  167.139999\n",
              "2021-11-16  169.130005  166.839996  166.940002  168.899994\n",
              "2021-11-17  169.449997  167.860001  168.570007  168.389999\n",
              "\n",
              "[1421 rows x 4 columns]"
            ]
          },
          "execution_count": 2,
          "metadata": {},
          "output_type": "execute_result"
        }
      ],
      "source": [
        "# IMPORTING DATASET\n",
        "# This whole cell is brand new, utilizing pullStockData function from yahoodata\n",
        "# XLK: Technology Select Sector SPDR Fund\n",
        "\n",
        "dataset = yd.pullStockData(\"XLK\", 2016, 3, 31, 2021, 11, 17)\n",
        "\n",
        "dataset\n"
      ]
    },
    {
      "cell_type": "code",
      "execution_count": 3,
      "metadata": {
        "id": "sOdGcHays64t"
      },
      "outputs": [],
      "source": [
        "# CREATING OWN INDEX FOR FLEXIBILITY\n",
        "obs = np.arange(1, len(dataset) + 1, 1)"
      ]
    },
    {
      "cell_type": "code",
      "execution_count": 4,
      "metadata": {
        "id": "BkqmSoRYuZzz"
      },
      "outputs": [],
      "source": [
        "# TAKING DIFFERENT INDICATORS FOR PREDICTION\n",
        "OHLC_avg = dataset.mean(axis = 1)\n",
        "HLC_avg = dataset[['High', 'Low', 'Close']].mean(axis = 1)\n",
        "close_val = dataset[['Close']]"
      ]
    },
    {
      "cell_type": "code",
      "execution_count": 5,
      "metadata": {
        "colab": {
          "base_uri": "https://localhost:8080/",
          "height": 265
        },
        "id": "j-cDDLHNuaQ6",
        "outputId": "6dcd39be-9848-4660-c00e-474e563a0eee"
      },
      "outputs": [
        {
          "data": {
            "image/png": "[encoded data removed]",
            "text/plain": [
              "<Figure size 432x288 with 1 Axes>"
            ]
          },
          "metadata": {
            "needs_background": "light"
          },
          "output_type": "display_data"
        }
      ],
      "source": [
        "# PLOTTING ALL INDICATORS IN ONE PLOT\n",
        "plt.plot(obs, OHLC_avg, 'r', label = 'OHLC avg')\n",
        "plt.plot(obs, HLC_avg, 'b', label = 'HLC avg')\n",
        "plt.plot(obs, close_val, 'g', label = 'Closing price')\n",
        "plt.legend(loc = 'upper right')\n",
        "plt.show()\n"
      ]
    },
    {
      "cell_type": "code",
      "execution_count": 6,
      "metadata": {
        "id": "O0BSRoZ4ucb3"
      },
      "outputs": [],
      "source": [
        "# PREPARATION OF TIME SERIES DATASET\n",
        "OHLC_avg = np.reshape(OHLC_avg.values, (len(OHLC_avg),1))\n",
        "scaler = MinMaxScaler(feature_range=(0, 1))\n",
        "OHLC_avg = scaler.fit_transform(OHLC_avg)"
      ]
    },
    {
      "cell_type": "code",
      "execution_count": 7,
      "metadata": {
        "id": "gAPl21erueY4"
      },
      "outputs": [],
      "source": [
        "# TRAIN-TEST SPLIT\n",
        "train_OHLC = int(len(OHLC_avg) * 0.7) # Changed to a 30/70 split from original dataset\n",
        "train_OHLC_placeholder = train_OHLC\n",
        "test_OHLC = len(OHLC_avg) - train_OHLC\n",
        "train_OHLC, test_OHLC = OHLC_avg[0:train_OHLC,:], OHLC_avg[train_OHLC:len(OHLC_avg),:]"
      ]
    },
    {
      "cell_type": "code",
      "execution_count": 8,
      "metadata": {
        "id": "5Zy2U-ycugv8"
      },
      "outputs": [],
      "source": [
        "# TIME-SERIES DATASET (FOR TIME T, VALUES FOR TIME T+1)\n",
        "trainX, trainY = preprocessing.new_dataset(train_OHLC, 1)\n",
        "testX, testY = preprocessing.new_dataset(test_OHLC, 1)"
      ]
    },
    {
      "cell_type": "code",
      "execution_count": 9,
      "metadata": {
        "id": "oeSRtAcwujwu"
      },
      "outputs": [],
      "source": [
        "# RESHAPING TRAIN AND TEST DATA\n",
        "trainX = np.reshape(trainX, (trainX.shape[0], 1, trainX.shape[1]))\n",
        "testX = np.reshape(testX, (testX.shape[0], 1, testX.shape[1]))\n",
        "step_size = 1"
      ]
    },
    {
      "cell_type": "code",
      "execution_count": 10,
      "metadata": {
        "id": "rORXwjHyujrc"
      },
      "outputs": [
        {
          "name": "stderr",
          "output_type": "stream",
          "text": [
            "2021-11-30 22:55:11.765567: I tensorflow/core/platform/cpu_feature_guard.cc:151] This TensorFlow binary is optimized with oneAPI Deep Neural Network Library (oneDNN) to use the following CPU instructions in performance-critical operations:  AVX2 FMA\n",
            "To enable them in other operations, rebuild TensorFlow with the appropriate compiler flags.\n"
          ]
        }
      ],
      "source": [
        "# LSTM MODEL\n",
        "model = Sequential()\n",
        "model.add(LSTM(32, input_shape=(1, step_size), return_sequences = True))\n",
        "model.add(LSTM(16))\n",
        "model.add(Dense(1))\n",
        "model.add(Activation('linear'))"
      ]
    },
    {
      "cell_type": "code",
      "execution_count": 11,
      "metadata": {
        "colab": {
          "base_uri": "https://localhost:8080/"
        },
        "id": "mGO9umyxul0W",
        "outputId": "92eeacbe-c907-47ad-da1d-a75b0af20d30"
      },
      "outputs": [
        {
          "name": "stdout",
          "output_type": "stream",
          "text": [
            "Epoch 1/50\n",
            "992/992 - 6s - loss: 0.0037 - mse: 0.0037 - mae: 0.0348 - 6s/epoch - 6ms/step\n",
            "Epoch 2/50\n",
            "992/992 - 4s - loss: 7.6731e-05 - mse: 7.6731e-05 - mae: 0.0064 - 4s/epoch - 4ms/step\n",
            "Epoch 3/50\n",
            "992/992 - 4s - loss: 6.2361e-05 - mse: 6.2361e-05 - mae: 0.0058 - 4s/epoch - 4ms/step\n",
            "Epoch 4/50\n",
            "992/992 - 3s - loss: 4.6623e-05 - mse: 4.6623e-05 - mae: 0.0049 - 3s/epoch - 3ms/step\n",
            "Epoch 5/50\n",
            "992/992 - 3s - loss: 4.8944e-05 - mse: 4.8944e-05 - mae: 0.0049 - 3s/epoch - 3ms/step\n",
            "Epoch 6/50\n",
            "992/992 - 3s - loss: 4.9984e-05 - mse: 4.9984e-05 - mae: 0.0051 - 3s/epoch - 3ms/step\n",
            "Epoch 7/50\n",
            "992/992 - 3s - loss: 4.8802e-05 - mse: 4.8802e-05 - mae: 0.0051 - 3s/epoch - 3ms/step\n",
            "Epoch 8/50\n",
            "992/992 - 3s - loss: 5.3110e-05 - mse: 5.3110e-05 - mae: 0.0053 - 3s/epoch - 4ms/step\n",
            "Epoch 9/50\n",
            "992/992 - 4s - loss: 5.2712e-05 - mse: 5.2712e-05 - mae: 0.0052 - 4s/epoch - 4ms/step\n",
            "Epoch 10/50\n",
            "992/992 - 4s - loss: 4.8594e-05 - mse: 4.8594e-05 - mae: 0.0050 - 4s/epoch - 4ms/step\n",
            "Epoch 11/50\n",
            "992/992 - 4s - loss: 5.3992e-05 - mse: 5.3992e-05 - mae: 0.0052 - 4s/epoch - 4ms/step\n",
            "Epoch 12/50\n",
            "992/992 - 3s - loss: 5.0085e-05 - mse: 5.0085e-05 - mae: 0.0050 - 3s/epoch - 3ms/step\n",
            "Epoch 13/50\n",
            "992/992 - 4s - loss: 5.0387e-05 - mse: 5.0387e-05 - mae: 0.0051 - 4s/epoch - 4ms/step\n",
            "Epoch 14/50\n",
            "992/992 - 4s - loss: 5.0899e-05 - mse: 5.0899e-05 - mae: 0.0052 - 4s/epoch - 4ms/step\n",
            "Epoch 15/50\n",
            "992/992 - 3s - loss: 4.8570e-05 - mse: 4.8570e-05 - mae: 0.0051 - 3s/epoch - 3ms/step\n",
            "Epoch 16/50\n",
            "992/992 - 3s - loss: 4.7998e-05 - mse: 4.7998e-05 - mae: 0.0050 - 3s/epoch - 3ms/step\n",
            "Epoch 17/50\n",
            "992/992 - 3s - loss: 5.2396e-05 - mse: 5.2396e-05 - mae: 0.0052 - 3s/epoch - 3ms/step\n",
            "Epoch 18/50\n",
            "992/992 - 2s - loss: 4.5373e-05 - mse: 4.5373e-05 - mae: 0.0048 - 2s/epoch - 2ms/step\n",
            "Epoch 19/50\n",
            "992/992 - 3s - loss: 5.7127e-05 - mse: 5.7127e-05 - mae: 0.0055 - 3s/epoch - 3ms/step\n",
            "Epoch 20/50\n",
            "992/992 - 3s - loss: 4.8655e-05 - mse: 4.8655e-05 - mae: 0.0050 - 3s/epoch - 3ms/step\n",
            "Epoch 21/50\n",
            "992/992 - 3s - loss: 5.0130e-05 - mse: 5.0130e-05 - mae: 0.0051 - 3s/epoch - 3ms/step\n",
            "Epoch 22/50\n",
            "992/992 - 3s - loss: 4.9691e-05 - mse: 4.9691e-05 - mae: 0.0051 - 3s/epoch - 3ms/step\n",
            "Epoch 23/50\n",
            "992/992 - 3s - loss: 4.9839e-05 - mse: 4.9839e-05 - mae: 0.0052 - 3s/epoch - 3ms/step\n",
            "Epoch 24/50\n",
            "992/992 - 3s - loss: 4.6261e-05 - mse: 4.6261e-05 - mae: 0.0049 - 3s/epoch - 3ms/step\n",
            "Epoch 25/50\n",
            "992/992 - 3s - loss: 4.6913e-05 - mse: 4.6913e-05 - mae: 0.0050 - 3s/epoch - 3ms/step\n",
            "Epoch 26/50\n",
            "992/992 - 3s - loss: 4.8037e-05 - mse: 4.8037e-05 - mae: 0.0049 - 3s/epoch - 3ms/step\n",
            "Epoch 27/50\n",
            "992/992 - 2s - loss: 4.5963e-05 - mse: 4.5963e-05 - mae: 0.0049 - 2s/epoch - 3ms/step\n",
            "Epoch 28/50\n",
            "992/992 - 3s - loss: 4.9725e-05 - mse: 4.9725e-05 - mae: 0.0050 - 3s/epoch - 3ms/step\n",
            "Epoch 29/50\n",
            "992/992 - 3s - loss: 4.8801e-05 - mse: 4.8801e-05 - mae: 0.0052 - 3s/epoch - 3ms/step\n",
            "Epoch 30/50\n",
            "992/992 - 3s - loss: 4.5921e-05 - mse: 4.5921e-05 - mae: 0.0049 - 3s/epoch - 3ms/step\n",
            "Epoch 31/50\n",
            "992/992 - 4s - loss: 4.8634e-05 - mse: 4.8634e-05 - mae: 0.0050 - 4s/epoch - 4ms/step\n",
            "Epoch 32/50\n",
            "992/992 - 4s - loss: 4.7681e-05 - mse: 4.7681e-05 - mae: 0.0050 - 4s/epoch - 4ms/step\n",
            "Epoch 33/50\n",
            "992/992 - 3s - loss: 5.0526e-05 - mse: 5.0526e-05 - mae: 0.0052 - 3s/epoch - 3ms/step\n",
            "Epoch 34/50\n",
            "992/992 - 3s - loss: 4.6771e-05 - mse: 4.6771e-05 - mae: 0.0049 - 3s/epoch - 3ms/step\n",
            "Epoch 35/50\n",
            "992/992 - 3s - loss: 4.9609e-05 - mse: 4.9609e-05 - mae: 0.0051 - 3s/epoch - 3ms/step\n",
            "Epoch 36/50\n",
            "992/992 - 3s - loss: 4.4501e-05 - mse: 4.4501e-05 - mae: 0.0048 - 3s/epoch - 3ms/step\n",
            "Epoch 37/50\n",
            "992/992 - 2s - loss: 5.0201e-05 - mse: 5.0201e-05 - mae: 0.0051 - 2s/epoch - 2ms/step\n",
            "Epoch 38/50\n",
            "992/992 - 3s - loss: 4.7656e-05 - mse: 4.7656e-05 - mae: 0.0050 - 3s/epoch - 3ms/step\n",
            "Epoch 39/50\n",
            "992/992 - 2s - loss: 4.4592e-05 - mse: 4.4592e-05 - mae: 0.0048 - 2s/epoch - 2ms/step\n",
            "Epoch 40/50\n",
            "992/992 - 2s - loss: 4.5112e-05 - mse: 4.5112e-05 - mae: 0.0048 - 2s/epoch - 2ms/step\n",
            "Epoch 41/50\n",
            "992/992 - 2s - loss: 4.7682e-05 - mse: 4.7682e-05 - mae: 0.0050 - 2s/epoch - 2ms/step\n",
            "Epoch 42/50\n",
            "992/992 - 2s - loss: 4.7125e-05 - mse: 4.7125e-05 - mae: 0.0050 - 2s/epoch - 2ms/step\n",
            "Epoch 43/50\n",
            "992/992 - 2s - loss: 4.6956e-05 - mse: 4.6956e-05 - mae: 0.0049 - 2s/epoch - 2ms/step\n",
            "Epoch 44/50\n",
            "992/992 - 2s - loss: 4.6162e-05 - mse: 4.6162e-05 - mae: 0.0049 - 2s/epoch - 2ms/step\n",
            "Epoch 45/50\n",
            "992/992 - 2s - loss: 4.4758e-05 - mse: 4.4758e-05 - mae: 0.0047 - 2s/epoch - 2ms/step\n",
            "Epoch 46/50\n",
            "992/992 - 2s - loss: 4.3990e-05 - mse: 4.3990e-05 - mae: 0.0049 - 2s/epoch - 2ms/step\n",
            "Epoch 47/50\n",
            "992/992 - 2s - loss: 4.5575e-05 - mse: 4.5575e-05 - mae: 0.0049 - 2s/epoch - 2ms/step\n",
            "Epoch 48/50\n",
            "992/992 - 2s - loss: 4.5427e-05 - mse: 4.5427e-05 - mae: 0.0049 - 2s/epoch - 2ms/step\n",
            "Epoch 49/50\n",
            "992/992 - 2s - loss: 4.8697e-05 - mse: 4.8697e-05 - mae: 0.0051 - 2s/epoch - 2ms/step\n",
            "Epoch 50/50\n",
            "992/992 - 2s - loss: 4.6616e-05 - mse: 4.6616e-05 - mae: 0.0049 - 2s/epoch - 2ms/step\n"
          ]
        }
      ],
      "source": [
        "# MODEL COMPILING AND TRAINING\n",
        "model.compile(loss='mean_squared_error', optimizer='adam', metrics = ['mse','mae']) # Switched from SGD to adam\n",
        "history = model.fit(trainX, trainY, epochs=50, batch_size=1, verbose=2) # Changed from 5 to 50 epochs"
      ]
    },
    {
      "cell_type": "code",
      "execution_count": 12,
      "metadata": {
        "id": "jsPNCnxGunzi"
      },
      "outputs": [],
      "source": [
        "# PREDICTION\n",
        "trainPredict = model.predict(trainX)\n",
        "testPredict = model.predict(testX)\n"
      ]
    },
    {
      "cell_type": "code",
      "execution_count": 13,
      "metadata": {
        "id": "cD0qESxrupwS"
      },
      "outputs": [],
      "source": [
        "# DE-NORMALIZING FOR PLOTTING\n",
        "trainPredict = scaler.inverse_transform(trainPredict)\n",
        "trainY = scaler.inverse_transform([trainY])\n",
        "testPredict = scaler.inverse_transform(testPredict)\n",
        "testY = scaler.inverse_transform([testY])"
      ]
    },
    {
      "cell_type": "code",
      "execution_count": 14,
      "metadata": {
        "colab": {
          "base_uri": "https://localhost:8080/"
        },
        "id": "2uNNsvhWur-8",
        "outputId": "ff7b4cea-f64d-4c14-d1f8-fd0b9ac8cfeb"
      },
      "outputs": [
        {
          "name": "stdout",
          "output_type": "stream",
          "text": [
            "Train RMSE: 0.73\n"
          ]
        }
      ],
      "source": [
        "# TRAINING RMSE\n",
        "trainScore = math.sqrt(mean_squared_error(trainY[0], trainPredict[:,0]))\n",
        "print('Train RMSE: %.2f' % (trainScore))"
      ]
    },
    {
      "cell_type": "code",
      "execution_count": 15,
      "metadata": {
        "colab": {
          "base_uri": "https://localhost:8080/"
        },
        "id": "wr3IHNxEut_2",
        "outputId": "9a9c6ab7-b4cb-4664-a39a-d079f007369f"
      },
      "outputs": [
        {
          "name": "stdout",
          "output_type": "stream",
          "text": [
            "Test RMSE: 7.86\n"
          ]
        }
      ],
      "source": [
        "# TEST RMSE\n",
        "testScore = math.sqrt(mean_squared_error(testY[0], testPredict[:,0]))\n",
        "print('Test RMSE: %.2f' % (testScore))\n"
      ]
    },
    {
      "cell_type": "code",
      "execution_count": 16,
      "metadata": {},
      "outputs": [
        {
          "data": {
            "image/png": "[encoded data removed]",
            "text/plain": [
              "<Figure size 432x288 with 1 Axes>"
            ]
          },
          "metadata": {
            "needs_background": "light"
          },
          "output_type": "display_data"
        }
      ],
      "source": [
        "# GRAPHING EVALUATION METRICS\n",
        "\n",
        "plt.plot(history.history['mae'])\n",
        "plt.plot(history.history['mse'])\n",
        "\n",
        "plt.title('Model Evaluation')\n",
        "plt.ylabel(\"Mean Average Error\")\n",
        "plt.xlabel(\"Epoch\")\n",
        "plt.show()"
      ]
    },
    {
      "cell_type": "code",
      "execution_count": 17,
      "metadata": {},
      "outputs": [
        {
          "name": "stdout",
          "output_type": "stream",
          "text": [
            "425/425 [==============================] - 2s 2ms/step - loss: 16238.0996 - mse: 16238.0996 - mae: 125.3948\n"
          ]
        }
      ],
      "source": [
        "# RESULTS FOR MAE AND MSE\n",
        "results = model.evaluate(testPredict, np.concatenate(testY), batch_size = 1)\n"
      ]
    },
    {
      "cell_type": "code",
      "execution_count": 18,
      "metadata": {
        "id": "hY5Ewgj9uvpc"
      },
      "outputs": [],
      "source": [
        "# CREATING SIMILAR DATASET TO PLOT TRAINING PREDICTIONS\n",
        "trainPredictPlot = np.empty_like(OHLC_avg)\n",
        "trainPredictPlot[:, :] = np.nan\n",
        "trainPredictPlot[step_size:len(trainPredict)+step_size, :] = trainPredict"
      ]
    },
    {
      "cell_type": "code",
      "execution_count": 19,
      "metadata": {
        "id": "Sp8xxiaZuxm4"
      },
      "outputs": [],
      "source": [
        "# CREATING SIMILAR DATASSET TO PLOT TEST PREDICTIONS\n",
        "testPredictPlot = np.empty_like(OHLC_avg)\n",
        "testPredictPlot[:, :] = np.nan\n",
        "testPredictPlot[len(trainPredict)+(step_size*2)+1:len(OHLC_avg)-1, :] = testPredict"
      ]
    },
    {
      "cell_type": "code",
      "execution_count": 20,
      "metadata": {
        "id": "G3YwUDgiuzIg"
      },
      "outputs": [],
      "source": [
        "# DE-NORMALIZING MAIN DATASET \n",
        "OHLC_avg = scaler.inverse_transform(OHLC_avg)"
      ]
    },
    {
      "cell_type": "code",
      "execution_count": 25,
      "metadata": {
        "colab": {
          "base_uri": "https://localhost:8080/",
          "height": 278
        },
        "id": "NbpeOjfOu2ND",
        "outputId": "4fecac8e-eb1e-402d-c659-25958966e88c"
      },
      "outputs": [
        {
          "data": {
            "image/png": "[encoded data removed]",
            "text/plain": [
              "<Figure size 432x288 with 1 Axes>"
            ]
          },
          "metadata": {
            "needs_background": "light"
          },
          "output_type": "display_data"
        }
      ],
      "source": [
        "# PLOT OF MAIN OHLC VALUES, TRAIN PREDICTIONS AND TEST PREDICTIONS\n",
        "plt.plot(OHLC_avg, 'g', label = 'original dataset')\n",
        "plt.plot(trainPredictPlot, 'r', label = 'training set')\n",
        "plt.plot(testPredictPlot, 'b', label = 'predicted stock price/test set')\n",
        "plt.legend(loc = 'lower right')\n",
        "plt.xlabel('Time in Days')\n",
        "plt.ylabel('OHLC Value of XLK')\n",
        "plt.savefig(\"images/XLK.png\", dpi=1000)  #Added this line to save a picture of the plot itself\n",
        "plt.show()\n"
      ]
    },
    {
      "cell_type": "code",
      "execution_count": 22,
      "metadata": {
        "id": "Rw3SofSHu4tH"
      },
      "outputs": [],
      "source": [
        "# PREDICT FUTURE VALUES (Valuation)\n",
        "last_val = testPredict[-1]\n",
        "last_val_scaled = last_val/last_val\n",
        "next_val = model.predict(np.reshape(last_val_scaled, (1,1,1)))\n"
      ]
    },
    {
      "cell_type": "code",
      "execution_count": 23,
      "metadata": {
        "colab": {
          "base_uri": "https://localhost:8080/"
        },
        "id": "lbxKGxi6iBs9",
        "outputId": "4d0296cf-44e2-442f-a5a4-6d5c4bfe6ba3"
      },
      "outputs": [
        {
          "data": {
            "text/plain": [
              "('Last Day Value:', 149.31068420410156)"
            ]
          },
          "execution_count": 23,
          "metadata": {},
          "output_type": "execute_result"
        }
      ],
      "source": [
        "# PRINT LAST VALUE\n",
        "\n",
        "\"Last Day Value:\", last_val.item()"
      ]
    },
    {
      "cell_type": "code",
      "execution_count": 24,
      "metadata": {
        "colab": {
          "base_uri": "https://localhost:8080/"
        },
        "id": "CzN9-MC2h-ya",
        "outputId": "bf30f7d3-0fa1-4762-d415-842d6b6cccf3"
      },
      "outputs": [
        {
          "data": {
            "text/plain": [
              "('Next Day Value:', 127.42002868652344)"
            ]
          },
          "execution_count": 24,
          "metadata": {},
          "output_type": "execute_result"
        }
      ],
      "source": [
        "# PRINT NEXT DAY PREDICTED VALUE\n",
        "\n",
        "\"Next Day Value:\", (last_val*next_val).item()"
      ]
    }
  ],
  "metadata": {
    "colab": {
      "collapsed_sections": [],
      "name": "Implementation_Group1.ipynb",
      "provenance": []
    },
    "kernelspec": {
      "display_name": "Python 3",
      "name": "python3"
    },
    "language_info": {
      "codemirror_mode": {
        "name": "ipython",
        "version": 3
      },
      "file_extension": ".py",
      "mimetype": "text/x-python",
      "name": "python",
      "nbconvert_exporter": "python",
      "pygments_lexer": "ipython3",
      "version": "3.9.1"
    }
  },
  "nbformat": 4,
  "nbformat_minor": 0
}
