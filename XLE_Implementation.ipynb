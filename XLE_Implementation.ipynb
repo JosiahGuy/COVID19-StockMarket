{
  "cells": [
    {
      "cell_type": "markdown",
      "metadata": {
        "id": "O281cDhKvSKQ"
      },
      "source": [
        "Link to paper: https://www.ncbi.nlm.nih.gov/pmc/articles/PMC7948653/\n",
        "Link to GitHub: https://github.com/NourozR/Stock-Price-Prediction-LSTM/blob/master/StockPricePrediction.py"
      ]
    },
    {
      "cell_type": "markdown",
      "metadata": {
        "id": "znvTg5nevgw3"
      },
      "source": [
        "**LOAD IN preprocessing.py and INDEX.csv INTO RUNTIME FOR CODE TO RUN**"
      ]
    },
    {
      "cell_type": "code",
      "execution_count": 1,
      "metadata": {
        "id": "OMgXWiq7rF2t"
      },
      "outputs": [],
      "source": [
        "# IMPORTING IMPORTANT LIBRARIES\n",
        "import pandas as pd\n",
        "import matplotlib.pyplot as plt\n",
        "import numpy as np \n",
        "import math\n",
        "from sklearn.preprocessing import MinMaxScaler\n",
        "from sklearn.metrics import mean_squared_error\n",
        "from keras.models import Sequential\n",
        "from keras.layers import Dense, Activation\n",
        "from keras.layers import LSTM\n",
        "import preprocessing \n",
        "import yahoodata as yd # File added as a function to parse our index data"
      ]
    },
    {
      "cell_type": "code",
      "execution_count": 2,
      "metadata": {},
      "outputs": [
        {
          "data": {
            "text/html": [
              "<div>\n",
              "<style scoped>\n",
              "    .dataframe tbody tr th:only-of-type {\n",
              "        vertical-align: middle;\n",
              "    }\n",
              "\n",
              "    .dataframe tbody tr th {\n",
              "        vertical-align: top;\n",
              "    }\n",
              "\n",
              "    .dataframe thead th {\n",
              "        text-align: right;\n",
              "    }\n",
              "</style>\n",
              "<table border=\"1\" class=\"dataframe\">\n",
              "  <thead>\n",
              "    <tr style=\"text-align: right;\">\n",
              "      <th></th>\n",
              "      <th>High</th>\n",
              "      <th>Low</th>\n",
              "      <th>Open</th>\n",
              "      <th>Close</th>\n",
              "    </tr>\n",
              "    <tr>\n",
              "      <th>Date</th>\n",
              "      <th></th>\n",
              "      <th></th>\n",
              "      <th></th>\n",
              "      <th></th>\n",
              "    </tr>\n",
              "  </thead>\n",
              "  <tbody>\n",
              "    <tr>\n",
              "      <th>2016-03-31</th>\n",
              "      <td>62.369999</td>\n",
              "      <td>61.580002</td>\n",
              "      <td>61.680000</td>\n",
              "      <td>61.889999</td>\n",
              "    </tr>\n",
              "    <tr>\n",
              "      <th>2016-04-01</th>\n",
              "      <td>61.240002</td>\n",
              "      <td>60.610001</td>\n",
              "      <td>60.820000</td>\n",
              "      <td>61.060001</td>\n",
              "    </tr>\n",
              "    <tr>\n",
              "      <th>2016-04-04</th>\n",
              "      <td>61.590000</td>\n",
              "      <td>60.430000</td>\n",
              "      <td>60.950001</td>\n",
              "      <td>60.610001</td>\n",
              "    </tr>\n",
              "    <tr>\n",
              "      <th>2016-04-05</th>\n",
              "      <td>60.630001</td>\n",
              "      <td>59.939999</td>\n",
              "      <td>60.099998</td>\n",
              "      <td>60.200001</td>\n",
              "    </tr>\n",
              "    <tr>\n",
              "      <th>2016-04-06</th>\n",
              "      <td>61.509998</td>\n",
              "      <td>60.240002</td>\n",
              "      <td>60.689999</td>\n",
              "      <td>61.500000</td>\n",
              "    </tr>\n",
              "    <tr>\n",
              "      <th>...</th>\n",
              "      <td>...</td>\n",
              "      <td>...</td>\n",
              "      <td>...</td>\n",
              "      <td>...</td>\n",
              "    </tr>\n",
              "    <tr>\n",
              "      <th>2021-11-11</th>\n",
              "      <td>58.080002</td>\n",
              "      <td>57.509998</td>\n",
              "      <td>57.509998</td>\n",
              "      <td>57.689999</td>\n",
              "    </tr>\n",
              "    <tr>\n",
              "      <th>2021-11-12</th>\n",
              "      <td>57.779999</td>\n",
              "      <td>57.200001</td>\n",
              "      <td>57.450001</td>\n",
              "      <td>57.549999</td>\n",
              "    </tr>\n",
              "    <tr>\n",
              "      <th>2021-11-15</th>\n",
              "      <td>58.369999</td>\n",
              "      <td>57.009998</td>\n",
              "      <td>57.500000</td>\n",
              "      <td>58.029999</td>\n",
              "    </tr>\n",
              "    <tr>\n",
              "      <th>2021-11-16</th>\n",
              "      <td>58.590000</td>\n",
              "      <td>57.840000</td>\n",
              "      <td>58.200001</td>\n",
              "      <td>58.119999</td>\n",
              "    </tr>\n",
              "    <tr>\n",
              "      <th>2021-11-17</th>\n",
              "      <td>58.380001</td>\n",
              "      <td>57.029999</td>\n",
              "      <td>57.549999</td>\n",
              "      <td>57.230000</td>\n",
              "    </tr>\n",
              "  </tbody>\n",
              "</table>\n",
              "<p>1421 rows × 4 columns</p>\n",
              "</div>"
            ],
            "text/plain": [
              "                 High        Low       Open      Close\n",
              "Date                                                  \n",
              "2016-03-31  62.369999  61.580002  61.680000  61.889999\n",
              "2016-04-01  61.240002  60.610001  60.820000  61.060001\n",
              "2016-04-04  61.590000  60.430000  60.950001  60.610001\n",
              "2016-04-05  60.630001  59.939999  60.099998  60.200001\n",
              "2016-04-06  61.509998  60.240002  60.689999  61.500000\n",
              "...               ...        ...        ...        ...\n",
              "2021-11-11  58.080002  57.509998  57.509998  57.689999\n",
              "2021-11-12  57.779999  57.200001  57.450001  57.549999\n",
              "2021-11-15  58.369999  57.009998  57.500000  58.029999\n",
              "2021-11-16  58.590000  57.840000  58.200001  58.119999\n",
              "2021-11-17  58.380001  57.029999  57.549999  57.230000\n",
              "\n",
              "[1421 rows x 4 columns]"
            ]
          },
          "execution_count": 2,
          "metadata": {},
          "output_type": "execute_result"
        }
      ],
      "source": [
        "# IMPORTING DATASET\n",
        "# This whole cell is brand new, utilizing pullStockData function from yahoodata\n",
        "# XLE: Energy Select Sector SPDR Fund\n",
        "\n",
        "dataset = yd.pullStockData(\"XLE\", 2016, 3, 31, 2021, 11, 17)\n",
        "\n",
        "dataset\n"
      ]
    },
    {
      "cell_type": "code",
      "execution_count": 3,
      "metadata": {
        "id": "sOdGcHays64t"
      },
      "outputs": [],
      "source": [
        "# CREATING OWN INDEX FOR FLEXIBILITY\n",
        "obs = np.arange(1, len(dataset) + 1, 1)"
      ]
    },
    {
      "cell_type": "code",
      "execution_count": 4,
      "metadata": {
        "id": "BkqmSoRYuZzz"
      },
      "outputs": [],
      "source": [
        "# TAKING DIFFERENT INDICATORS FOR PREDICTION\n",
        "OHLC_avg = dataset.mean(axis = 1)\n",
        "HLC_avg = dataset[['High', 'Low', 'Close']].mean(axis = 1)\n",
        "close_val = dataset[['Close']]"
      ]
    },
    {
      "cell_type": "code",
      "execution_count": 5,
      "metadata": {
        "colab": {
          "base_uri": "https://localhost:8080/",
          "height": 265
        },
        "id": "j-cDDLHNuaQ6",
        "outputId": "6dcd39be-9848-4660-c00e-474e563a0eee"
      },
      "outputs": [
        {
          "data": {
            "image/png": "[encoded data removed]",
            "text/plain": [
              "<Figure size 432x288 with 1 Axes>"
            ]
          },
          "metadata": {
            "needs_background": "light"
          },
          "output_type": "display_data"
        }
      ],
      "source": [
        "# PLOTTING ALL INDICATORS IN ONE PLOT\n",
        "plt.plot(obs, OHLC_avg, 'r', label = 'OHLC avg')\n",
        "plt.plot(obs, HLC_avg, 'b', label = 'HLC avg')\n",
        "plt.plot(obs, close_val, 'g', label = 'Closing price')\n",
        "plt.legend(loc = 'upper right')\n",
        "plt.show()\n"
      ]
    },
    {
      "cell_type": "code",
      "execution_count": 6,
      "metadata": {
        "id": "O0BSRoZ4ucb3"
      },
      "outputs": [],
      "source": [
        "# PREPARATION OF TIME SERIES DATASET\n",
        "OHLC_avg = np.reshape(OHLC_avg.values, (len(OHLC_avg),1))\n",
        "scaler = MinMaxScaler(feature_range=(0, 1))\n",
        "OHLC_avg = scaler.fit_transform(OHLC_avg)"
      ]
    },
    {
      "cell_type": "code",
      "execution_count": 7,
      "metadata": {
        "id": "gAPl21erueY4"
      },
      "outputs": [],
      "source": [
        "# TRAIN-TEST SPLIT\n",
        "train_OHLC = int(len(OHLC_avg) * 0.7) # Changed to a 30/70 split from original dataset\n",
        "train_OHLC_placeholder = train_OHLC\n",
        "test_OHLC = len(OHLC_avg) - train_OHLC\n",
        "train_OHLC, test_OHLC = OHLC_avg[0:train_OHLC,:], OHLC_avg[train_OHLC:len(OHLC_avg),:]"
      ]
    },
    {
      "cell_type": "code",
      "execution_count": 8,
      "metadata": {
        "id": "5Zy2U-ycugv8"
      },
      "outputs": [],
      "source": [
        "# TIME-SERIES DATASET (FOR TIME T, VALUES FOR TIME T+1)\n",
        "trainX, trainY = preprocessing.new_dataset(train_OHLC, 1)\n",
        "testX, testY = preprocessing.new_dataset(test_OHLC, 1)"
      ]
    },
    {
      "cell_type": "code",
      "execution_count": 9,
      "metadata": {
        "id": "oeSRtAcwujwu"
      },
      "outputs": [],
      "source": [
        "# RESHAPING TRAIN AND TEST DATA\n",
        "trainX = np.reshape(trainX, (trainX.shape[0], 1, trainX.shape[1]))\n",
        "testX = np.reshape(testX, (testX.shape[0], 1, testX.shape[1]))\n",
        "step_size = 1"
      ]
    },
    {
      "cell_type": "code",
      "execution_count": 10,
      "metadata": {
        "id": "rORXwjHyujrc"
      },
      "outputs": [
        {
          "name": "stderr",
          "output_type": "stream",
          "text": [
            "2021-11-30 23:13:17.148649: I tensorflow/core/platform/cpu_feature_guard.cc:151] This TensorFlow binary is optimized with oneAPI Deep Neural Network Library (oneDNN) to use the following CPU instructions in performance-critical operations:  AVX2 FMA\n",
            "To enable them in other operations, rebuild TensorFlow with the appropriate compiler flags.\n"
          ]
        }
      ],
      "source": [
        "# LSTM MODEL\n",
        "model = Sequential()\n",
        "model.add(LSTM(32, input_shape=(1, step_size), return_sequences = True))\n",
        "model.add(LSTM(16))\n",
        "model.add(Dense(1))\n",
        "model.add(Activation('linear'))"
      ]
    },
    {
      "cell_type": "code",
      "execution_count": 11,
      "metadata": {
        "colab": {
          "base_uri": "https://localhost:8080/"
        },
        "id": "mGO9umyxul0W",
        "outputId": "92eeacbe-c907-47ad-da1d-a75b0af20d30"
      },
      "outputs": [
        {
          "name": "stdout",
          "output_type": "stream",
          "text": [
            "Epoch 1/50\n",
            "992/992 - 5s - loss: 0.0311 - mse: 0.0311 - mae: 0.0794 - 5s/epoch - 5ms/step\n",
            "Epoch 2/50\n",
            "992/992 - 2s - loss: 5.0507e-04 - mse: 5.0507e-04 - mae: 0.0154 - 2s/epoch - 2ms/step\n",
            "Epoch 3/50\n",
            "992/992 - 2s - loss: 3.1877e-04 - mse: 3.1877e-04 - mae: 0.0131 - 2s/epoch - 2ms/step\n",
            "Epoch 4/50\n",
            "992/992 - 2s - loss: 3.3221e-04 - mse: 3.3221e-04 - mae: 0.0132 - 2s/epoch - 2ms/step\n",
            "Epoch 5/50\n",
            "992/992 - 2s - loss: 3.4157e-04 - mse: 3.4157e-04 - mae: 0.0135 - 2s/epoch - 2ms/step\n",
            "Epoch 6/50\n",
            "992/992 - 2s - loss: 3.4429e-04 - mse: 3.4429e-04 - mae: 0.0139 - 2s/epoch - 2ms/step\n",
            "Epoch 7/50\n",
            "992/992 - 2s - loss: 3.0616e-04 - mse: 3.0616e-04 - mae: 0.0126 - 2s/epoch - 2ms/step\n",
            "Epoch 8/50\n",
            "992/992 - 2s - loss: 3.2603e-04 - mse: 3.2603e-04 - mae: 0.0133 - 2s/epoch - 2ms/step\n",
            "Epoch 9/50\n",
            "992/992 - 2s - loss: 3.2236e-04 - mse: 3.2236e-04 - mae: 0.0134 - 2s/epoch - 2ms/step\n",
            "Epoch 10/50\n",
            "992/992 - 2s - loss: 3.2991e-04 - mse: 3.2991e-04 - mae: 0.0135 - 2s/epoch - 2ms/step\n",
            "Epoch 11/50\n",
            "992/992 - 2s - loss: 2.9388e-04 - mse: 2.9388e-04 - mae: 0.0126 - 2s/epoch - 2ms/step\n",
            "Epoch 12/50\n",
            "992/992 - 2s - loss: 3.1020e-04 - mse: 3.1020e-04 - mae: 0.0132 - 2s/epoch - 2ms/step\n",
            "Epoch 13/50\n",
            "992/992 - 2s - loss: 2.9609e-04 - mse: 2.9609e-04 - mae: 0.0127 - 2s/epoch - 2ms/step\n",
            "Epoch 14/50\n",
            "992/992 - 2s - loss: 2.8919e-04 - mse: 2.8919e-04 - mae: 0.0126 - 2s/epoch - 2ms/step\n",
            "Epoch 15/50\n",
            "992/992 - 2s - loss: 2.8416e-04 - mse: 2.8416e-04 - mae: 0.0126 - 2s/epoch - 2ms/step\n",
            "Epoch 16/50\n",
            "992/992 - 2s - loss: 2.8555e-04 - mse: 2.8555e-04 - mae: 0.0126 - 2s/epoch - 2ms/step\n",
            "Epoch 17/50\n",
            "992/992 - 2s - loss: 2.7828e-04 - mse: 2.7828e-04 - mae: 0.0124 - 2s/epoch - 2ms/step\n",
            "Epoch 18/50\n",
            "992/992 - 2s - loss: 2.7717e-04 - mse: 2.7717e-04 - mae: 0.0128 - 2s/epoch - 2ms/step\n",
            "Epoch 19/50\n",
            "992/992 - 2s - loss: 2.8135e-04 - mse: 2.8135e-04 - mae: 0.0126 - 2s/epoch - 2ms/step\n",
            "Epoch 20/50\n",
            "992/992 - 2s - loss: 2.7184e-04 - mse: 2.7184e-04 - mae: 0.0124 - 2s/epoch - 2ms/step\n",
            "Epoch 21/50\n",
            "992/992 - 2s - loss: 2.7756e-04 - mse: 2.7756e-04 - mae: 0.0127 - 2s/epoch - 2ms/step\n",
            "Epoch 22/50\n",
            "992/992 - 2s - loss: 2.7152e-04 - mse: 2.7152e-04 - mae: 0.0125 - 2s/epoch - 2ms/step\n",
            "Epoch 23/50\n",
            "992/992 - 2s - loss: 2.5884e-04 - mse: 2.5884e-04 - mae: 0.0123 - 2s/epoch - 2ms/step\n",
            "Epoch 24/50\n",
            "992/992 - 2s - loss: 2.5382e-04 - mse: 2.5382e-04 - mae: 0.0120 - 2s/epoch - 2ms/step\n",
            "Epoch 25/50\n",
            "992/992 - 2s - loss: 2.6545e-04 - mse: 2.6545e-04 - mae: 0.0122 - 2s/epoch - 2ms/step\n",
            "Epoch 26/50\n",
            "992/992 - 3s - loss: 2.6540e-04 - mse: 2.6540e-04 - mae: 0.0123 - 3s/epoch - 3ms/step\n",
            "Epoch 27/50\n",
            "992/992 - 2s - loss: 2.8000e-04 - mse: 2.8000e-04 - mae: 0.0127 - 2s/epoch - 2ms/step\n",
            "Epoch 28/50\n",
            "992/992 - 2s - loss: 2.4788e-04 - mse: 2.4788e-04 - mae: 0.0120 - 2s/epoch - 2ms/step\n",
            "Epoch 29/50\n",
            "992/992 - 2s - loss: 2.9100e-04 - mse: 2.9100e-04 - mae: 0.0130 - 2s/epoch - 2ms/step\n",
            "Epoch 30/50\n",
            "992/992 - 2s - loss: 2.6266e-04 - mse: 2.6266e-04 - mae: 0.0125 - 2s/epoch - 2ms/step\n",
            "Epoch 31/50\n",
            "992/992 - 2s - loss: 2.5268e-04 - mse: 2.5268e-04 - mae: 0.0122 - 2s/epoch - 2ms/step\n",
            "Epoch 32/50\n",
            "992/992 - 2s - loss: 2.7500e-04 - mse: 2.7500e-04 - mae: 0.0128 - 2s/epoch - 2ms/step\n",
            "Epoch 33/50\n",
            "992/992 - 3s - loss: 2.6171e-04 - mse: 2.6171e-04 - mae: 0.0123 - 3s/epoch - 3ms/step\n",
            "Epoch 34/50\n",
            "992/992 - 2s - loss: 2.7214e-04 - mse: 2.7214e-04 - mae: 0.0125 - 2s/epoch - 2ms/step\n",
            "Epoch 35/50\n",
            "992/992 - 2s - loss: 2.6226e-04 - mse: 2.6226e-04 - mae: 0.0125 - 2s/epoch - 2ms/step\n",
            "Epoch 36/50\n",
            "992/992 - 2s - loss: 2.4628e-04 - mse: 2.4628e-04 - mae: 0.0119 - 2s/epoch - 2ms/step\n",
            "Epoch 37/50\n",
            "992/992 - 2s - loss: 2.6859e-04 - mse: 2.6859e-04 - mae: 0.0124 - 2s/epoch - 2ms/step\n",
            "Epoch 38/50\n",
            "992/992 - 2s - loss: 2.5419e-04 - mse: 2.5419e-04 - mae: 0.0120 - 2s/epoch - 2ms/step\n",
            "Epoch 39/50\n",
            "992/992 - 2s - loss: 2.8674e-04 - mse: 2.8674e-04 - mae: 0.0129 - 2s/epoch - 2ms/step\n",
            "Epoch 40/50\n",
            "992/992 - 2s - loss: 2.5751e-04 - mse: 2.5751e-04 - mae: 0.0121 - 2s/epoch - 2ms/step\n",
            "Epoch 41/50\n",
            "992/992 - 2s - loss: 2.6513e-04 - mse: 2.6513e-04 - mae: 0.0124 - 2s/epoch - 2ms/step\n",
            "Epoch 42/50\n",
            "992/992 - 2s - loss: 2.7333e-04 - mse: 2.7333e-04 - mae: 0.0127 - 2s/epoch - 2ms/step\n",
            "Epoch 43/50\n",
            "992/992 - 2s - loss: 2.5354e-04 - mse: 2.5354e-04 - mae: 0.0120 - 2s/epoch - 2ms/step\n",
            "Epoch 44/50\n",
            "992/992 - 2s - loss: 2.5271e-04 - mse: 2.5271e-04 - mae: 0.0119 - 2s/epoch - 2ms/step\n",
            "Epoch 45/50\n",
            "992/992 - 2s - loss: 2.7740e-04 - mse: 2.7740e-04 - mae: 0.0126 - 2s/epoch - 2ms/step\n",
            "Epoch 46/50\n",
            "992/992 - 2s - loss: 2.3755e-04 - mse: 2.3755e-04 - mae: 0.0116 - 2s/epoch - 2ms/step\n",
            "Epoch 47/50\n",
            "992/992 - 2s - loss: 2.7973e-04 - mse: 2.7973e-04 - mae: 0.0129 - 2s/epoch - 2ms/step\n",
            "Epoch 48/50\n",
            "992/992 - 2s - loss: 2.6093e-04 - mse: 2.6093e-04 - mae: 0.0122 - 2s/epoch - 2ms/step\n",
            "Epoch 49/50\n",
            "992/992 - 2s - loss: 2.4948e-04 - mse: 2.4948e-04 - mae: 0.0120 - 2s/epoch - 2ms/step\n",
            "Epoch 50/50\n",
            "992/992 - 2s - loss: 2.6354e-04 - mse: 2.6354e-04 - mae: 0.0121 - 2s/epoch - 2ms/step\n"
          ]
        }
      ],
      "source": [
        "# MODEL COMPILING AND TRAINING\n",
        "model.compile(loss='mean_squared_error', optimizer='adam', metrics = ['mse','mae']) # Switched from SGD to adam\n",
        "history = model.fit(trainX, trainY, epochs=50, batch_size=1, verbose=2) # Changed from 5 to 50 epochs"
      ]
    },
    {
      "cell_type": "code",
      "execution_count": 12,
      "metadata": {
        "id": "jsPNCnxGunzi"
      },
      "outputs": [],
      "source": [
        "# PREDICTION\n",
        "trainPredict = model.predict(trainX)\n",
        "testPredict = model.predict(testX)\n"
      ]
    },
    {
      "cell_type": "code",
      "execution_count": 13,
      "metadata": {
        "id": "cD0qESxrupwS"
      },
      "outputs": [],
      "source": [
        "# DE-NORMALIZING FOR PLOTTING\n",
        "trainPredict = scaler.inverse_transform(trainPredict)\n",
        "trainY = scaler.inverse_transform([trainY])\n",
        "testPredict = scaler.inverse_transform(testPredict)\n",
        "testY = scaler.inverse_transform([testY])"
      ]
    },
    {
      "cell_type": "code",
      "execution_count": 14,
      "metadata": {
        "colab": {
          "base_uri": "https://localhost:8080/"
        },
        "id": "2uNNsvhWur-8",
        "outputId": "ff7b4cea-f64d-4c14-d1f8-fd0b9ac8cfeb"
      },
      "outputs": [
        {
          "name": "stdout",
          "output_type": "stream",
          "text": [
            "Train RMSE: 0.80\n"
          ]
        }
      ],
      "source": [
        "# TRAINING RMSE\n",
        "trainScore = math.sqrt(mean_squared_error(trainY[0], trainPredict[:,0]))\n",
        "print('Train RMSE: %.2f' % (trainScore))"
      ]
    },
    {
      "cell_type": "code",
      "execution_count": 15,
      "metadata": {
        "colab": {
          "base_uri": "https://localhost:8080/"
        },
        "id": "wr3IHNxEut_2",
        "outputId": "9a9c6ab7-b4cb-4664-a39a-d079f007369f"
      },
      "outputs": [
        {
          "name": "stdout",
          "output_type": "stream",
          "text": [
            "Test RMSE: 1.13\n"
          ]
        }
      ],
      "source": [
        "# TEST RMSE\n",
        "testScore = math.sqrt(mean_squared_error(testY[0], testPredict[:,0]))\n",
        "print('Test RMSE: %.2f' % (testScore))\n"
      ]
    },
    {
      "cell_type": "code",
      "execution_count": 16,
      "metadata": {},
      "outputs": [
        {
          "data": {
            "image/png": "[encoded data removed]",
            "text/plain": [
              "<Figure size 432x288 with 1 Axes>"
            ]
          },
          "metadata": {
            "needs_background": "light"
          },
          "output_type": "display_data"
        }
      ],
      "source": [
        "# GRAPHING EVALUATION METRICS\n",
        "\n",
        "plt.plot(history.history['mae'])\n",
        "plt.plot(history.history['mse'])\n",
        "\n",
        "plt.title('Model Evaluation')\n",
        "plt.ylabel(\"Mean Average Error\")\n",
        "plt.xlabel(\"Epoch\")\n",
        "plt.show()"
      ]
    },
    {
      "cell_type": "code",
      "execution_count": 17,
      "metadata": {},
      "outputs": [
        {
          "name": "stdout",
          "output_type": "stream",
          "text": [
            "425/425 [==============================] - 2s 2ms/step - loss: 1716.2754 - mse: 1716.2754 - mae: 40.4801\n"
          ]
        }
      ],
      "source": [
        "# RESULTS FOR MAE AND MSE\n",
        "results = model.evaluate(testPredict, np.concatenate(testY), batch_size = 1)\n"
      ]
    },
    {
      "cell_type": "code",
      "execution_count": 18,
      "metadata": {
        "id": "hY5Ewgj9uvpc"
      },
      "outputs": [],
      "source": [
        "# CREATING SIMILAR DATASET TO PLOT TRAINING PREDICTIONS\n",
        "trainPredictPlot = np.empty_like(OHLC_avg)\n",
        "trainPredictPlot[:, :] = np.nan\n",
        "trainPredictPlot[step_size:len(trainPredict)+step_size, :] = trainPredict"
      ]
    },
    {
      "cell_type": "code",
      "execution_count": 19,
      "metadata": {
        "id": "Sp8xxiaZuxm4"
      },
      "outputs": [],
      "source": [
        "# CREATING SIMILAR DATASSET TO PLOT TEST PREDICTIONS\n",
        "testPredictPlot = np.empty_like(OHLC_avg)\n",
        "testPredictPlot[:, :] = np.nan\n",
        "testPredictPlot[len(trainPredict)+(step_size*2)+1:len(OHLC_avg)-1, :] = testPredict"
      ]
    },
    {
      "cell_type": "code",
      "execution_count": 20,
      "metadata": {
        "id": "G3YwUDgiuzIg"
      },
      "outputs": [],
      "source": [
        "# DE-NORMALIZING MAIN DATASET \n",
        "OHLC_avg = scaler.inverse_transform(OHLC_avg)"
      ]
    },
    {
      "cell_type": "code",
      "execution_count": 21,
      "metadata": {
        "colab": {
          "base_uri": "https://localhost:8080/",
          "height": 278
        },
        "id": "NbpeOjfOu2ND",
        "outputId": "4fecac8e-eb1e-402d-c659-25958966e88c"
      },
      "outputs": [
        {
          "data": {
            "image/png": "[encoded data removed]",
            "text/plain": [
              "<Figure size 432x288 with 1 Axes>"
            ]
          },
          "metadata": {
            "needs_background": "light"
          },
          "output_type": "display_data"
        }
      ],
      "source": [
        "# PLOT OF MAIN OHLC VALUES, TRAIN PREDICTIONS AND TEST PREDICTIONS\n",
        "plt.plot(OHLC_avg, 'g', label = 'original dataset')\n",
        "plt.plot(trainPredictPlot, 'r', label = 'training set')\n",
        "plt.plot(testPredictPlot, 'b', label = 'predicted stock price/test set')\n",
        "plt.legend(loc = 'lower right')\n",
        "plt.xlabel('Time in Days')\n",
        "plt.ylabel('OHLC Value of XLE')\n",
        "plt.savefig(\"images/XLE.png\", dpi=1000)  #Added this line to save a picture of the plot itself\n",
        "plt.show()\n"
      ]
    },
    {
      "cell_type": "code",
      "execution_count": 22,
      "metadata": {
        "id": "Rw3SofSHu4tH"
      },
      "outputs": [],
      "source": [
        "# PREDICT FUTURE VALUES (Valuation)\n",
        "last_val = testPredict[-1]\n",
        "last_val_scaled = last_val/last_val\n",
        "next_val = model.predict(np.reshape(last_val_scaled, (1,1,1)))\n"
      ]
    },
    {
      "cell_type": "code",
      "execution_count": 23,
      "metadata": {
        "colab": {
          "base_uri": "https://localhost:8080/"
        },
        "id": "lbxKGxi6iBs9",
        "outputId": "4d0296cf-44e2-442f-a5a4-6d5c4bfe6ba3"
      },
      "outputs": [
        {
          "data": {
            "text/plain": [
              "('Last Day Value:', 57.43669891357422)"
            ]
          },
          "execution_count": 23,
          "metadata": {},
          "output_type": "execute_result"
        }
      ],
      "source": [
        "# PRINT LAST VALUE\n",
        "\n",
        "\"Last Day Value:\", last_val.item()"
      ]
    },
    {
      "cell_type": "code",
      "execution_count": 24,
      "metadata": {
        "colab": {
          "base_uri": "https://localhost:8080/"
        },
        "id": "CzN9-MC2h-ya",
        "outputId": "bf30f7d3-0fa1-4762-d415-842d6b6cccf3"
      },
      "outputs": [
        {
          "data": {
            "text/plain": [
              "('Next Day Value:', 56.47365951538086)"
            ]
          },
          "execution_count": 24,
          "metadata": {},
          "output_type": "execute_result"
        }
      ],
      "source": [
        "# PRINT NEXT DAY PREDICTED VALUE\n",
        "\n",
        "\"Next Day Value:\", (last_val*next_val).item()"
      ]
    }
  ],
  "metadata": {
    "colab": {
      "collapsed_sections": [],
      "name": "Implementation_Group1.ipynb",
      "provenance": []
    },
    "kernelspec": {
      "display_name": "Python 3",
      "name": "python3"
    },
    "language_info": {
      "codemirror_mode": {
        "name": "ipython",
        "version": 3
      },
      "file_extension": ".py",
      "mimetype": "text/x-python",
      "name": "python",
      "nbconvert_exporter": "python",
      "pygments_lexer": "ipython3",
      "version": "3.9.1"
    }
  },
  "nbformat": 4,
  "nbformat_minor": 0
}
